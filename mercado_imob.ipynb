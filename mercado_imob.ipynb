{
 "cells": [
  {
   "cell_type": "code",
   "execution_count": null,
   "id": "4579a6ca",
   "metadata": {},
   "outputs": [],
   "source": [
    "\"\"\"\n",
    "\n",
    "- Imoveis na periferia de São Paulo são subvalorizados?\n",
    "\n",
    "- A ideia que norteia o projeto é entender se os imoveis que em raio de 30km do marco 0 da cidade de São Paulo são subvalorizados em comparação ao centro ou bairros nobres\n",
    "- Para possibilitar uma analise de recomendação de investimento nesses imoveis com base em expectativa de lucro, tempo de retorno e analise de risco do mercado.\n",
    "- Possiveis interessados na analise exploratoria: Startups do mercado imobiliario, Fundos Imobiliarios, Construtoras, Instituições financeiras que fornecem credito imobiliario\n",
    "\n",
    "- analise baseada nos imoveis disponiveis nos sites Loft, Quinto Andar e Zap Imoveis\n",
    "\n",
    "- a primeira missão seria conseguir as informações dos imoveis listados com [id_anuncio, endereco, preco, m2, quartos, banheiro, vaga de garagem, tipo imovel, novo/usado, rating atribuido por mim]\n",
    "- se possivel obter alguma informação sobre a venda desses imoveis (talvez diario oficial para buscar tranferencias de imoveis)\n",
    "- com base no endereço começamos a classificar se o imovel está em area periferica, neutra ou nobre\n",
    "- pós classificação começamos a fazer as comparações de rating e preco de imoveis similares em locais diferentes\n",
    "- tirar mais ideias sobre a situação imobiliaria de sao paulo\n",
    "- tentar criar algoritmo que busca oportunidades de lucro \n",
    "\n",
    "-- linkar com problemas habitacionais da cidade\n",
    "-- se possivel realizar uma regressao para comparar o quanto cada variavel impacta no preço do m2/total do imovel e nao se esquecer de adicionar uma variavel para segurança do bairro e outros fatores externos\n",
    "\n",
    "\n",
    "WebScreaping \n",
    "Beautiful soup\n",
    "Seleniun\n",
    "Paralelização \n",
    "\n",
    "--quando fizer o webscraping procurar as <tags> que contenha apenas a info que eu quero\n",
    "--para buscar diversas tags diferentes é interessante criar uma função com condicionais para cada type de informação dentro da tag\n",
    "\n",
    "EXEMPLO\n",
    "tags = ['p','h1', 'h2', 'h3', 'h4', 'h5', 'h6', 'h7']\n",
    "text_list = []\n",
    "for element in soup.find_all(tags):\n",
    "    text_list.append(element.text)\n",
    "print('\\n'.join(text_list))\n",
    "\n",
    "\n",
    "\"\"\""
   ]
  },
  {
   "cell_type": "code",
   "execution_count": null,
   "id": "8b724392",
   "metadata": {},
   "outputs": [],
   "source": [
    "\"\"\"TASK LIST \n",
    "- fazer o scraping de uma das variaveis do imovel em uma pagina simples [feito]\n",
    "- criar uma lista dos links dos imoveis da tela principal\n",
    "\n",
    "\n",
    "\n",
    "\"\"\""
   ]
  },
  {
   "cell_type": "markdown",
   "id": "71d8d15e",
   "metadata": {},
   "source": [
    "# Imports e acesso ao banco de dados"
   ]
  },
  {
   "cell_type": "code",
   "execution_count": 1,
   "id": "b16be718",
   "metadata": {
    "ExecuteTime": {
     "end_time": "2022-09-21T23:57:44.124788Z",
     "start_time": "2022-09-21T23:57:43.618044Z"
    }
   },
   "outputs": [],
   "source": [
    "from tqdm import tqdm\n",
    "import pandas as pd\n",
    "import numpy as np\n",
    "\n",
    "import requests\n",
    "from datetime import datetime\n",
    "\n",
    "from bs4 import BeautifulSoup\n",
    "from lxml import etree\n",
    "\n",
    "from selenium import webdriver\n",
    "from selenium.webdriver.chrome.service import Service\n",
    "from selenium.webdriver.common.keys import Keys\n",
    "\n"
   ]
  },
  {
   "cell_type": "code",
   "execution_count": 2,
   "id": "28826050",
   "metadata": {
    "ExecuteTime": {
     "end_time": "2022-09-18T12:33:53.202426Z",
     "start_time": "2022-09-18T12:33:53.198430Z"
    }
   },
   "outputs": [],
   "source": [
    "#localização do chromewebdriver\n",
    "chrome_path = r'C:\\Users\\T-GAMER\\Desktop\\Ironhack DA\\Projeto Final\\chromedriver'\n",
    "ser = Service(chrome_path)"
   ]
  },
  {
   "cell_type": "code",
   "execution_count": 3,
   "id": "c8d42d64",
   "metadata": {
    "ExecuteTime": {
     "end_time": "2022-09-18T12:33:56.208223Z",
     "start_time": "2022-09-18T12:33:54.303529Z"
    }
   },
   "outputs": [],
   "source": [
    "#chromewebdriver deve estar aberto para o codigo funcionar\n",
    "driver = webdriver.Chrome(service=ser)"
   ]
  },
  {
   "cell_type": "markdown",
   "id": "87a9ebae",
   "metadata": {
    "heading_collapsed": true
   },
   "source": [
    "# Base coleta de dados primeira pagina"
   ]
  },
  {
   "cell_type": "code",
   "execution_count": null,
   "id": "05f00a71",
   "metadata": {
    "ExecuteTime": {
     "end_time": "2022-09-07T12:12:52.994524Z",
     "start_time": "2022-09-07T12:12:52.984514Z"
    },
    "hidden": true
   },
   "outputs": [],
   "source": [
    "url = 'https://loft.com.br/imovel/apartamento-rua-francisco-rossano-vila-prudente-sao-paulo-1-quarto-40m2/ycf79w'"
   ]
  },
  {
   "cell_type": "code",
   "execution_count": null,
   "id": "0952f732",
   "metadata": {
    "ExecuteTime": {
     "end_time": "2022-09-07T12:13:00.283446Z",
     "start_time": "2022-09-07T12:12:54.496468Z"
    },
    "hidden": true
   },
   "outputs": [],
   "source": [
    "driver.get(url)"
   ]
  },
  {
   "cell_type": "code",
   "execution_count": null,
   "id": "fe3275f6",
   "metadata": {
    "ExecuteTime": {
     "end_time": "2022-09-07T12:13:15.978865Z",
     "start_time": "2022-09-07T12:13:15.960864Z"
    },
    "hidden": true
   },
   "outputs": [],
   "source": [
    "driver.current_url"
   ]
  },
  {
   "cell_type": "code",
   "execution_count": null,
   "id": "9243bcf4",
   "metadata": {
    "ExecuteTime": {
     "end_time": "2022-09-03T20:53:50.636106Z",
     "start_time": "2022-09-03T20:53:50.609100Z"
    },
    "hidden": true
   },
   "outputs": [],
   "source": [
    "#metodo do webdriver 'find_element para procurar um elemento dentro da minha URL pelo xpath' \n",
    "#peguei o caminho full_xpath do valor no grande box a direita\n",
    "driver.find_element('xpath','/html/body/div[1]/section/div[2]/div[2]/div/div/div/div/div/div/ul/li[2]/p').text"
   ]
  },
  {
   "cell_type": "code",
   "execution_count": null,
   "id": "96de98da",
   "metadata": {
    "ExecuteTime": {
     "end_time": "2022-09-03T20:53:52.105840Z",
     "start_time": "2022-09-03T20:53:52.073602Z"
    },
    "hidden": true
   },
   "outputs": [],
   "source": [
    "#peguei o caminho full_xpath do ID do Imóvel nas letras cinzas embaixo das fotos\n",
    "#será necessário limpar o DataFrame para criar uma chave unica deste ID\n",
    "driver.find_element('xpath', '/html/body/div[1]/section/div[2]/div[1]/div[1]/div/div/div[1]/nav/ol/li[9]/span').text"
   ]
  },
  {
   "cell_type": "code",
   "execution_count": null,
   "id": "a283711b",
   "metadata": {
    "ExecuteTime": {
     "end_time": "2022-09-03T20:53:53.844715Z",
     "start_time": "2022-09-03T20:53:53.810171Z"
    },
    "hidden": true
   },
   "outputs": [],
   "source": [
    "#peguei o caminho full_xpath da rua nas letras cinzas embaixo das fotos \n",
    "driver.find_element('xpath', '/html/body/div[1]/section/div[2]/div[1]/div[1]/div/div/div[1]/nav/ol/li[7]/a').text"
   ]
  },
  {
   "cell_type": "code",
   "execution_count": null,
   "id": "56b28175",
   "metadata": {
    "ExecuteTime": {
     "end_time": "2022-09-03T20:53:55.389524Z",
     "start_time": "2022-09-03T20:53:55.352164Z"
    },
    "hidden": true
   },
   "outputs": [],
   "source": [
    "#peguei o caminho full_xpath do tipo do imovel nas descrições em preto embaixo das fotos \n",
    "#será necessário limpar o tipo com regex, seria uma boa ideia entender os tipos de imovel dentro do site e depois filtrar eles\n",
    "driver.find_element('xpath', '/html/body/div[1]/section/div[2]/div[1]/div[3]/div[2]/div[1]/p').text"
   ]
  },
  {
   "cell_type": "code",
   "execution_count": null,
   "id": "21f7c24e",
   "metadata": {
    "ExecuteTime": {
     "end_time": "2022-09-03T20:53:57.072800Z",
     "start_time": "2022-09-03T20:53:57.048787Z"
    },
    "hidden": true
   },
   "outputs": [],
   "source": [
    "#peguei o caminho full_xpath do titulo nas descrições em preto embaixo das foto para extrair a quantidade de quartos, suites e vagas de gaaragem  \n",
    "#será necessário limpar o tipo com regex\n",
    "driver.find_element('xpath','/html/body/div[1]/section/div[2]/div[1]/div[1]/div/div/div[2]/h1').text"
   ]
  },
  {
   "cell_type": "code",
   "execution_count": null,
   "id": "822cd39d",
   "metadata": {
    "ExecuteTime": {
     "end_time": "2022-09-03T20:53:58.342023Z",
     "start_time": "2022-09-03T20:53:58.312953Z"
    },
    "hidden": true
   },
   "outputs": [],
   "source": [
    "#peguei o caminho full_xpath das descrições para extrair a quantidade de banheiros.  \n",
    "#será necessário limpar o tipo com regex\n",
    "driver.find_element('xpath','/html/body/div[1]/section/div[2]/div[1]/div[3]/div[2]/div[5]/p').text"
   ]
  },
  {
   "cell_type": "markdown",
   "id": "6cac8906",
   "metadata": {
    "heading_collapsed": true
   },
   "source": [
    "# Func de Coleta uma pagina unica"
   ]
  },
  {
   "cell_type": "code",
   "execution_count": 4,
   "id": "81e7b5b5",
   "metadata": {
    "ExecuteTime": {
     "end_time": "2022-09-18T12:34:09.851977Z",
     "start_time": "2022-09-18T12:34:06.104356Z"
    },
    "hidden": true
   },
   "outputs": [],
   "source": [
    "url = 'https://loft.com.br/imovel/apartamento-rua-francisco-rossano-vila-prudente-sao-paulo-1-quarto-40m2/ycf79w'\n",
    "driver.get(url)"
   ]
  },
  {
   "cell_type": "code",
   "execution_count": 36,
   "id": "a5d602d1",
   "metadata": {
    "ExecuteTime": {
     "end_time": "2022-09-18T20:13:02.116416Z",
     "start_time": "2022-09-18T20:13:02.106413Z"
    },
    "hidden": true
   },
   "outputs": [],
   "source": [
    "\n",
    "df_list = []\n",
    "\n",
    "def coleta_info(x):\n",
    "    \n",
    "    \"\"\"Essa funcao coleta os dados de um imovel na pagina de anuncio do site Loft por meio do Xpath e salva estes dados dentro de um DataFrame\n",
    "    Atualmente para a funcao ser executada corretamente é necessario carregar a pagina previamente no navegador de maneira manual\n",
    "    Eventualmente o site atualiza de um dia para o outro e os caminhos de Xpath devem ser atualizados\"\"\"\n",
    "    \n",
    "    url = x\n",
    "    driver.get(url)\n",
    "    dict_teste = {}\n",
    "    \n",
    "    \n",
    "    try:\n",
    "        dict_teste['preco_imov'] = driver.find_element('xpath','/html/body/div[1]/section/div[2]/div[2]/div/div/div/div/div/div/ul/li[2]/p').text\n",
    "    except:\n",
    "        dict_teste['preco_imov'] = 'Indisponivel'     \n",
    "    try:    \n",
    "        dict_teste['id_imov'] = driver.find_element('xpath', '/html/body/div[1]/section/div[2]/div[1]/div[1]/div/div/div[1]/nav/ol/li[9]/span').text\n",
    "    except:\n",
    "        dict_teste['id_imov'] = 'Indisponivel'       \n",
    "    try:\n",
    "        dict_teste['cidade'] = driver.find_element('xpath', '/html/body/div[1]/section/div[2]/div[1]/div[1]/div/div/div[1]/nav/ol/li[3]/a').text\n",
    "    except: \n",
    "        dict_teste['cidade'] = 'Indisponivel'      \n",
    "    try:    \n",
    "        dict_teste['endereco'] = driver.find_element('xpath', '/html/body/div[1]/section/div[2]/div[1]/div[1]/div/div/div[1]/nav/ol/li[7]/a').text\n",
    "    except: \n",
    "        dict_teste['endereco'] = 'Indisponivel'  \n",
    "    try:    \n",
    "        dict_teste['titulo_imov'] = driver.find_element('xpath','/html/body/div[1]/section/div[2]/div[1]/div[1]/div/div/div[2]/h1').text\n",
    "    except: \n",
    "        dict_teste['titulo_imov'] = 'Indisponivel'\n",
    "    try:    \n",
    "        dict_teste['vaga'] = driver.find_element('xpath','/html/body/div[1]/section/div[2]/div[1]/div[3]/div[2]/div[3]/p').text\n",
    "    except: \n",
    "        dict_teste['vaga'] = 'Indisponivel'\n",
    "    try:    \n",
    "        dict_teste['banheiro'] = driver.find_element('xpath','/html/body/div[1]/section/div[2]/div[1]/div[3]/div[2]/div[4]/p').text\n",
    "    except: \n",
    "        dict_teste['banheiro'] = 'Indisponivel'\n",
    "    try:    \n",
    "        dict_teste['condominio'] = driver.find_element('xpath','/html/body/div[1]/section/div[2]/div[2]/div/div/div/div/div/div/ul/div[2]/li[1]/div[2]/p').text\n",
    "    except:\n",
    "        dict_teste['condominio'] = 'Indisponivel'\n",
    "    try:\n",
    "        dict_teste['iptu'] = driver.find_element('xpath','/html/body/div[1]/section/div[2]/div[2]/div/div/div/div/div/div/ul/div[2]/li[2]/div[2]/p').text\n",
    "    except: \n",
    "        dict_teste['iptu'] = 'Indisponivel'\n",
    "        \n",
    "    return df_list.append(pd.DataFrame(dict_teste, index=[0]))\n",
    "    \n",
    "    #global df_teste\n",
    "    #df_teste = pd.DataFrame(dict_teste, index=[0]) \n",
    "    \n",
    "    #Quando eu tiro o Global e deixo ele apenas retornando o DataFrame o valor nao sai da função pra nenhum lugar #\n",
    "    "
   ]
  },
  {
   "cell_type": "code",
   "execution_count": 18,
   "id": "446ec598",
   "metadata": {
    "ExecuteTime": {
     "end_time": "2022-09-17T19:38:10.246264Z",
     "start_time": "2022-09-17T19:38:06.224270Z"
    },
    "hidden": true
   },
   "outputs": [],
   "source": [
    "coleta_info('https://loft.com.br/imovel/apartamento-rua-sao-luis-santana-porto-alegre-3-quartos-234m2/1rjt5zo')"
   ]
  },
  {
   "cell_type": "code",
   "execution_count": 6,
   "id": "2f48414f",
   "metadata": {
    "ExecuteTime": {
     "end_time": "2022-09-18T12:34:16.826794Z",
     "start_time": "2022-09-18T12:34:16.806790Z"
    },
    "hidden": true
   },
   "outputs": [
    {
     "data": {
      "text/plain": [
       "[]"
      ]
     },
     "execution_count": 6,
     "metadata": {},
     "output_type": "execute_result"
    }
   ],
   "source": [
    "df_list"
   ]
  },
  {
   "cell_type": "markdown",
   "id": "27d3a073",
   "metadata": {
    "heading_collapsed": true
   },
   "source": [
    "# Automatização do codigo para rodar em varias paginas."
   ]
  },
  {
   "cell_type": "code",
   "execution_count": 5,
   "id": "e5de6e43",
   "metadata": {
    "ExecuteTime": {
     "end_time": "2022-09-08T20:04:19.199723Z",
     "start_time": "2022-09-08T20:04:18.798588Z"
    },
    "hidden": true
   },
   "outputs": [
    {
     "ename": "NameError",
     "evalue": "name 'i' is not defined",
     "output_type": "error",
     "traceback": [
      "\u001b[1;31m---------------------------------------------------------------------------\u001b[0m",
      "\u001b[1;31mNameError\u001b[0m                                 Traceback (most recent call last)",
      "Input \u001b[1;32mIn [5]\u001b[0m, in \u001b[0;36m<cell line: 5>\u001b[1;34m()\u001b[0m\n\u001b[0;32m      1\u001b[0m \u001b[38;5;66;03m# coleta de lista de links da home do site\u001b[39;00m\n\u001b[0;32m      2\u001b[0m \n\u001b[0;32m      3\u001b[0m \u001b[38;5;66;03m# home_url_loop = f'https://loft.com.br/venda/imoveis/sp/sao-paulo?pagina={i}'  #inicia na 2 e vai até a 132\u001b[39;00m\n\u001b[1;32m----> 5\u001b[0m home_url \u001b[38;5;241m=\u001b[39m \u001b[38;5;124mf\u001b[39m\u001b[38;5;124m'\u001b[39m\u001b[38;5;124mhttps://loft.com.br/venda/imoveis/sp/sao-paulo?pagina=\u001b[39m\u001b[38;5;132;01m{\u001b[39;00mi\u001b[38;5;132;01m}\u001b[39;00m\u001b[38;5;124m'\u001b[39m\n\u001b[0;32m      6\u001b[0m home_response \u001b[38;5;241m=\u001b[39m requests\u001b[38;5;241m.\u001b[39mget(home_url)\n\u001b[0;32m      7\u001b[0m html \u001b[38;5;241m=\u001b[39m home_response\u001b[38;5;241m.\u001b[39mcontent\n",
      "\u001b[1;31mNameError\u001b[0m: name 'i' is not defined"
     ]
    }
   ],
   "source": [
    "# coleta de lista de links da home do site\n",
    "# inicia na 2 e vai até a 132\n",
    "\n",
    "home_url = f'https://loft.com.br/venda/imoveis/sp/sao-paulo?pagina={i}'\n",
    "home_response = requests.get(home_url)\n",
    "html = home_response.content\n",
    "soup = BeautifulSoup(html)\n",
    "\n",
    "# List comprehantion que junta o url da home filtrando dentro da tag <a> todas as tags <href> que iniciam em '/imovel'\n",
    "\n",
    "lista_links = ['https://loft.com.br' + tag ['href'] for tag in soup.find_all('a') if tag['href'].startswith('/imovel')]\n"
   ]
  },
  {
   "cell_type": "code",
   "execution_count": 6,
   "id": "163e5ead",
   "metadata": {
    "ExecuteTime": {
     "end_time": "2022-09-08T20:05:55.408748Z",
     "start_time": "2022-09-08T20:04:30.542511Z"
    },
    "hidden": true
   },
   "outputs": [],
   "source": [
    "# For que cria uma lista de todos os links de imoveis listados para sao paulo\n",
    "# Lista extraida no dia 08/09/2022\n",
    "\n",
    "lista_links = []\n",
    "\n",
    "for i in range(1,132):\n",
    "    home_url = f'https://loft.com.br/venda/imoveis/sp/sao-paulo?pagina={i}'\n",
    "    home_response = requests.get(home_url)\n",
    "    html = home_response.content\n",
    "    soup = BeautifulSoup(html)\n",
    "    lista_links += ['https://loft.com.br' + tag ['href'] for tag in soup.find_all('a') if tag['href'].startswith('/imovel')]\n",
    "\n"
   ]
  },
  {
   "cell_type": "code",
   "execution_count": 7,
   "id": "b07a31e0",
   "metadata": {
    "ExecuteTime": {
     "end_time": "2022-09-08T20:05:58.372022Z",
     "start_time": "2022-09-08T20:05:58.351019Z"
    },
    "hidden": true
   },
   "outputs": [
    {
     "data": {
      "text/plain": [
       "4978"
      ]
     },
     "execution_count": 7,
     "metadata": {},
     "output_type": "execute_result"
    }
   ],
   "source": [
    "len(lista_links)"
   ]
  },
  {
   "cell_type": "code",
   "execution_count": 5,
   "id": "85d6f93a",
   "metadata": {
    "ExecuteTime": {
     "end_time": "2022-09-17T13:39:14.471660Z",
     "start_time": "2022-09-17T13:37:54.628758Z"
    },
    "hidden": true
   },
   "outputs": [],
   "source": [
    "# For que cria uma lista de todos os links de imoveis listados para porto alegre\n",
    "# Lista extraida no dia 09/09/2022\n",
    "\n",
    "lista_links_pa = []\n",
    "\n",
    "for i in range(1,132):\n",
    "    home_url = f'https://loft.com.br/venda/imoveis/rs/porto-alegre?pagina={i}'\n",
    "    home_response = requests.get(home_url)\n",
    "    html = home_response.content\n",
    "    soup = BeautifulSoup(html)\n",
    "    lista_links_pa += ['https://loft.com.br' + tag ['href'] for tag in soup.find_all('a') if tag['href'].startswith('/imovel')]"
   ]
  },
  {
   "cell_type": "code",
   "execution_count": 6,
   "id": "00f21cd9",
   "metadata": {
    "ExecuteTime": {
     "end_time": "2022-09-17T13:39:20.669428Z",
     "start_time": "2022-09-17T13:39:20.653417Z"
    },
    "hidden": true
   },
   "outputs": [
    {
     "data": {
      "text/plain": [
       "4978"
      ]
     },
     "execution_count": 6,
     "metadata": {},
     "output_type": "execute_result"
    }
   ],
   "source": [
    "len(lista_links_pa)"
   ]
  },
  {
   "cell_type": "code",
   "execution_count": 8,
   "id": "757f3b0c",
   "metadata": {
    "ExecuteTime": {
     "end_time": "2022-09-18T12:36:34.869171Z",
     "start_time": "2022-09-18T12:35:08.135645Z"
    },
    "hidden": true
   },
   "outputs": [],
   "source": [
    "# For que cria uma lista de todos os links de imoveis listados para rio de janeiro\n",
    "# Lista extraida no dia 09/09/2022\n",
    "\n",
    "lista_links_rj = []\n",
    "\n",
    "for i in range(1,132):\n",
    "    home_url = f'https://loft.com.br/venda/imoveis/rj/rio-de-janeiro?pagina={i}'\n",
    "    home_response = requests.get(home_url)\n",
    "    html = home_response.content\n",
    "    soup = BeautifulSoup(html)\n",
    "    lista_links_rj += ['https://loft.com.br' + tag ['href'] for tag in soup.find_all('a') if tag['href'].startswith('/imovel')]"
   ]
  },
  {
   "cell_type": "code",
   "execution_count": 9,
   "id": "b2a956fd",
   "metadata": {
    "ExecuteTime": {
     "end_time": "2022-09-18T12:37:14.547875Z",
     "start_time": "2022-09-18T12:37:14.543873Z"
    },
    "hidden": true
   },
   "outputs": [
    {
     "data": {
      "text/plain": [
       "4978"
      ]
     },
     "execution_count": 9,
     "metadata": {},
     "output_type": "execute_result"
    }
   ],
   "source": [
    "len(lista_links_rj)"
   ]
  },
  {
   "cell_type": "code",
   "execution_count": 33,
   "id": "9bc15602",
   "metadata": {
    "ExecuteTime": {
     "end_time": "2022-09-18T20:10:50.477508Z",
     "start_time": "2022-09-18T20:09:27.791699Z"
    },
    "hidden": true
   },
   "outputs": [],
   "source": [
    "# For que cria uma lista de todos os links de imoveis listados para rio de janeiro\n",
    "# Lista extraida no dia 09/09/2022\n",
    "\n",
    "lista_links_bh = []\n",
    "\n",
    "for i in range(1,132):\n",
    "    home_url = f'https://loft.com.br/venda/imoveis/mg/belo-horizonte?pagina={i}'\n",
    "    home_response = requests.get(home_url)\n",
    "    html = home_response.content\n",
    "    soup = BeautifulSoup(html)\n",
    "    lista_links_bh += ['https://loft.com.br' + tag ['href'] for tag in soup.find_all('a') if tag['href'].startswith('/imovel')]"
   ]
  },
  {
   "cell_type": "code",
   "execution_count": 34,
   "id": "b97afaa7",
   "metadata": {
    "ExecuteTime": {
     "end_time": "2022-09-18T20:12:07.377397Z",
     "start_time": "2022-09-18T20:12:07.361398Z"
    },
    "hidden": true
   },
   "outputs": [
    {
     "data": {
      "text/plain": [
       "4978"
      ]
     },
     "execution_count": 34,
     "metadata": {},
     "output_type": "execute_result"
    }
   ],
   "source": [
    "len(lista_links_bh)"
   ]
  },
  {
   "cell_type": "code",
   "execution_count": 45,
   "id": "6de657fb",
   "metadata": {
    "ExecuteTime": {
     "end_time": "2022-09-19T00:06:18.896981Z",
     "start_time": "2022-09-19T00:06:18.878979Z"
    },
    "hidden": true
   },
   "outputs": [],
   "source": [
    "lista_teste = lista_links_bh [4001:4977]"
   ]
  },
  {
   "cell_type": "code",
   "execution_count": null,
   "id": "aca01384",
   "metadata": {
    "hidden": true
   },
   "outputs": [],
   "source": [
    "# Funcao para coletar informacoes de cada imovel dentro da lista de links, estou rodando de 100 em 100 imoveis para evitar um block do site por ip ou um timeout\n",
    "# após rodar o list(map) tenho que rodar o concat para incluir as informações recem coletadas no df_final\n",
    "\n",
    "list(map(coleta_info, tqdm(lista_teste)))"
   ]
  },
  {
   "cell_type": "code",
   "execution_count": 102,
   "id": "7c606a8d",
   "metadata": {
    "ExecuteTime": {
     "end_time": "2022-09-09T03:04:40.741163Z",
     "start_time": "2022-09-09T03:04:40.434876Z"
    },
    "hidden": true
   },
   "outputs": [
    {
     "data": {
      "text/html": [
       "<div>\n",
       "<style scoped>\n",
       "    .dataframe tbody tr th:only-of-type {\n",
       "        vertical-align: middle;\n",
       "    }\n",
       "\n",
       "    .dataframe tbody tr th {\n",
       "        vertical-align: top;\n",
       "    }\n",
       "\n",
       "    .dataframe thead th {\n",
       "        text-align: right;\n",
       "    }\n",
       "</style>\n",
       "<table border=\"1\" class=\"dataframe\">\n",
       "  <thead>\n",
       "    <tr style=\"text-align: right;\">\n",
       "      <th></th>\n",
       "      <th>preco_imov</th>\n",
       "      <th>id_imov</th>\n",
       "      <th>cidade</th>\n",
       "      <th>endereco</th>\n",
       "      <th>titulo_imov</th>\n",
       "      <th>vaga</th>\n",
       "      <th>banheiro</th>\n",
       "      <th>etc_apart</th>\n",
       "      <th>condominio</th>\n",
       "      <th>iptu</th>\n",
       "    </tr>\n",
       "  </thead>\n",
       "  <tbody>\n",
       "    <tr>\n",
       "      <th>0</th>\n",
       "      <td>R$ 1.484.000</td>\n",
       "      <td>Imóvel 1RUQ6KB</td>\n",
       "      <td>Apartamento em São Paulo</td>\n",
       "      <td>Rua dos Pinheiros</td>\n",
       "      <td>Apartamento à venda em Pinheiros com 68 m², 2 ...</td>\n",
       "      <td>1 vaga</td>\n",
       "      <td>2 Banheiros</td>\n",
       "      <td>Lavabo</td>\n",
       "      <td>R$ 530/mês</td>\n",
       "      <td>R$ 1.830/ano</td>\n",
       "    </tr>\n",
       "    <tr>\n",
       "      <th>0</th>\n",
       "      <td>R$ 1.200.000</td>\n",
       "      <td>Imóvel 1NDUYA8</td>\n",
       "      <td>Apartamento em São Paulo</td>\n",
       "      <td>Rua Camburiú</td>\n",
       "      <td>Apartamento à venda em Alto da Lapa com 115 m²...</td>\n",
       "      <td>2 vagas</td>\n",
       "      <td>2 Banheiros</td>\n",
       "      <td>Posição da unidade</td>\n",
       "      <td>R$ 1.195/mês</td>\n",
       "      <td>R$ 391/mês</td>\n",
       "    </tr>\n",
       "    <tr>\n",
       "      <th>0</th>\n",
       "      <td>R$ 1.160.000</td>\n",
       "      <td>Imóvel 1UT6HT2</td>\n",
       "      <td>Apartamento em São Paulo</td>\n",
       "      <td>Rua Cunha Gago</td>\n",
       "      <td>Apartamento à venda em Pinheiros com 60 m², 2 ...</td>\n",
       "      <td>1 vaga</td>\n",
       "      <td>2 Banheiros</td>\n",
       "      <td>Indisponivel</td>\n",
       "      <td>R$ 984/mês</td>\n",
       "      <td>R$ 276/mês</td>\n",
       "    </tr>\n",
       "    <tr>\n",
       "      <th>0</th>\n",
       "      <td>R$ 580.000</td>\n",
       "      <td>Imóvel NGVFTG</td>\n",
       "      <td>Apartamento em São Paulo</td>\n",
       "      <td>Rua Adelino de Almeida Castilho</td>\n",
       "      <td>Apartamento à venda em Tatuapé com 68 m², 2 qu...</td>\n",
       "      <td>1 vaga</td>\n",
       "      <td>2 Banheiros</td>\n",
       "      <td>Posição da unidade</td>\n",
       "      <td>R$ 400/mês</td>\n",
       "      <td>Isento</td>\n",
       "    </tr>\n",
       "    <tr>\n",
       "      <th>0</th>\n",
       "      <td>R$ 795.000</td>\n",
       "      <td>Imóvel WBLJ5Z</td>\n",
       "      <td>Apartamento em São Paulo</td>\n",
       "      <td>Rua Araçoiaba</td>\n",
       "      <td>Apartamento à venda em Saúde com 64 m², 2 quar...</td>\n",
       "      <td>1 vaga</td>\n",
       "      <td>2 Banheiros</td>\n",
       "      <td>Indisponivel</td>\n",
       "      <td>R$ 791/mês</td>\n",
       "      <td>R$ 3.200/ano</td>\n",
       "    </tr>\n",
       "    <tr>\n",
       "      <th>...</th>\n",
       "      <td>...</td>\n",
       "      <td>...</td>\n",
       "      <td>...</td>\n",
       "      <td>...</td>\n",
       "      <td>...</td>\n",
       "      <td>...</td>\n",
       "      <td>...</td>\n",
       "      <td>...</td>\n",
       "      <td>...</td>\n",
       "      <td>...</td>\n",
       "    </tr>\n",
       "    <tr>\n",
       "      <th>0</th>\n",
       "      <td>R$ 550.000</td>\n",
       "      <td>Imóvel 1MU2S8P</td>\n",
       "      <td>Apartamento em São Paulo</td>\n",
       "      <td>Rua Ausonia</td>\n",
       "      <td>Apartamento à venda em Tucuruvi com 60 m², 2 q...</td>\n",
       "      <td>2 vagas</td>\n",
       "      <td>2 Banheiros</td>\n",
       "      <td>Indisponivel</td>\n",
       "      <td>R$ 450/mês</td>\n",
       "      <td>R$ 100/ano</td>\n",
       "    </tr>\n",
       "    <tr>\n",
       "      <th>0</th>\n",
       "      <td>R$ 355.000</td>\n",
       "      <td>Imóvel NAM32A</td>\n",
       "      <td>Apartamento em São Paulo</td>\n",
       "      <td>Rua Campevas</td>\n",
       "      <td>Apartamento à venda em Perdizes com 32 m², 1 q...</td>\n",
       "      <td>1 vaga</td>\n",
       "      <td>1 Banheiro</td>\n",
       "      <td>Chuveiro</td>\n",
       "      <td>R$ 630/mês</td>\n",
       "      <td>R$ 160/mês</td>\n",
       "    </tr>\n",
       "    <tr>\n",
       "      <th>0</th>\n",
       "      <td>R$ 850.000</td>\n",
       "      <td>Imóvel 5L45RB</td>\n",
       "      <td>Apartamento em São Paulo</td>\n",
       "      <td>Avenida Portugal</td>\n",
       "      <td>Apartamento à venda em Brooklin com 58 m², 1 q...</td>\n",
       "      <td>1 vaga</td>\n",
       "      <td>1 Banheiro</td>\n",
       "      <td>Lavabo</td>\n",
       "      <td>R$ 1.000/mês</td>\n",
       "      <td>R$ 230/mês</td>\n",
       "    </tr>\n",
       "    <tr>\n",
       "      <th>0</th>\n",
       "      <td>R$ 529.000</td>\n",
       "      <td>Imóvel 1UJRSYM</td>\n",
       "      <td>Apartamento em São Paulo</td>\n",
       "      <td>Rua Dona Ana Neri</td>\n",
       "      <td>Apartamento à venda em Cambuci com 62 m², 3 qu...</td>\n",
       "      <td>1 vaga</td>\n",
       "      <td>2 Banheiros</td>\n",
       "      <td>Vista emparedada</td>\n",
       "      <td>R$ 550/mês</td>\n",
       "      <td>R$ 64/mês</td>\n",
       "    </tr>\n",
       "    <tr>\n",
       "      <th>0</th>\n",
       "      <td>R$ 900.000</td>\n",
       "      <td>Imóvel 18T30YM</td>\n",
       "      <td>Apartamento em São Paulo</td>\n",
       "      <td>Rua Doutor Eduardo de Souza Aranha</td>\n",
       "      <td>Apartamento à venda em Vila Olímpia com 76 m²,...</td>\n",
       "      <td>1 vaga</td>\n",
       "      <td>2 Banheiros</td>\n",
       "      <td>Indisponivel</td>\n",
       "      <td>R$ 1.350/mês</td>\n",
       "      <td>R$ 86/ano</td>\n",
       "    </tr>\n",
       "  </tbody>\n",
       "</table>\n",
       "<p>4968 rows × 10 columns</p>\n",
       "</div>"
      ],
      "text/plain": [
       "      preco_imov         id_imov                    cidade  \\\n",
       "0   R$ 1.484.000  Imóvel 1RUQ6KB  Apartamento em São Paulo   \n",
       "0   R$ 1.200.000  Imóvel 1NDUYA8  Apartamento em São Paulo   \n",
       "0   R$ 1.160.000  Imóvel 1UT6HT2  Apartamento em São Paulo   \n",
       "0     R$ 580.000   Imóvel NGVFTG  Apartamento em São Paulo   \n",
       "0     R$ 795.000   Imóvel WBLJ5Z  Apartamento em São Paulo   \n",
       "..           ...             ...                       ...   \n",
       "0     R$ 550.000  Imóvel 1MU2S8P  Apartamento em São Paulo   \n",
       "0     R$ 355.000   Imóvel NAM32A  Apartamento em São Paulo   \n",
       "0     R$ 850.000   Imóvel 5L45RB  Apartamento em São Paulo   \n",
       "0     R$ 529.000  Imóvel 1UJRSYM  Apartamento em São Paulo   \n",
       "0     R$ 900.000  Imóvel 18T30YM  Apartamento em São Paulo   \n",
       "\n",
       "                              endereco  \\\n",
       "0                    Rua dos Pinheiros   \n",
       "0                         Rua Camburiú   \n",
       "0                       Rua Cunha Gago   \n",
       "0      Rua Adelino de Almeida Castilho   \n",
       "0                        Rua Araçoiaba   \n",
       "..                                 ...   \n",
       "0                          Rua Ausonia   \n",
       "0                         Rua Campevas   \n",
       "0                     Avenida Portugal   \n",
       "0                    Rua Dona Ana Neri   \n",
       "0   Rua Doutor Eduardo de Souza Aranha   \n",
       "\n",
       "                                          titulo_imov     vaga     banheiro  \\\n",
       "0   Apartamento à venda em Pinheiros com 68 m², 2 ...   1 vaga  2 Banheiros   \n",
       "0   Apartamento à venda em Alto da Lapa com 115 m²...  2 vagas  2 Banheiros   \n",
       "0   Apartamento à venda em Pinheiros com 60 m², 2 ...   1 vaga  2 Banheiros   \n",
       "0   Apartamento à venda em Tatuapé com 68 m², 2 qu...   1 vaga  2 Banheiros   \n",
       "0   Apartamento à venda em Saúde com 64 m², 2 quar...   1 vaga  2 Banheiros   \n",
       "..                                                ...      ...          ...   \n",
       "0   Apartamento à venda em Tucuruvi com 60 m², 2 q...  2 vagas  2 Banheiros   \n",
       "0   Apartamento à venda em Perdizes com 32 m², 1 q...   1 vaga   1 Banheiro   \n",
       "0   Apartamento à venda em Brooklin com 58 m², 1 q...   1 vaga   1 Banheiro   \n",
       "0   Apartamento à venda em Cambuci com 62 m², 3 qu...   1 vaga  2 Banheiros   \n",
       "0   Apartamento à venda em Vila Olímpia com 76 m²,...   1 vaga  2 Banheiros   \n",
       "\n",
       "             etc_apart    condominio          iptu  \n",
       "0               Lavabo    R$ 530/mês  R$ 1.830/ano  \n",
       "0   Posição da unidade  R$ 1.195/mês    R$ 391/mês  \n",
       "0         Indisponivel    R$ 984/mês    R$ 276/mês  \n",
       "0   Posição da unidade    R$ 400/mês        Isento  \n",
       "0         Indisponivel    R$ 791/mês  R$ 3.200/ano  \n",
       "..                 ...           ...           ...  \n",
       "0         Indisponivel    R$ 450/mês    R$ 100/ano  \n",
       "0             Chuveiro    R$ 630/mês    R$ 160/mês  \n",
       "0               Lavabo  R$ 1.000/mês    R$ 230/mês  \n",
       "0     Vista emparedada    R$ 550/mês     R$ 64/mês  \n",
       "0         Indisponivel  R$ 1.350/mês     R$ 86/ano  \n",
       "\n",
       "[4968 rows x 10 columns]"
      ]
     },
     "execution_count": 102,
     "metadata": {},
     "output_type": "execute_result"
    }
   ],
   "source": [
    "df_final_sp = pd.concat(df_list)\n",
    "df_final_sp"
   ]
  },
  {
   "cell_type": "code",
   "execution_count": 117,
   "id": "76c90533",
   "metadata": {
    "ExecuteTime": {
     "end_time": "2022-09-09T03:18:03.032006Z",
     "start_time": "2022-09-09T03:18:02.981979Z"
    },
    "hidden": true
   },
   "outputs": [],
   "source": [
    "df_final_sp.to_csv(r\"C:\\Users\\T-GAMER\\Desktop\\Ironhack DA\\Projeto Final\\raw_dataset.csv\", encoding = 'latin1')"
   ]
  },
  {
   "cell_type": "code",
   "execution_count": 29,
   "id": "3b76a3bb",
   "metadata": {
    "ExecuteTime": {
     "end_time": "2022-09-18T03:14:00.717670Z",
     "start_time": "2022-09-18T03:14:00.497612Z"
    },
    "hidden": true
   },
   "outputs": [
    {
     "data": {
      "text/html": [
       "<div>\n",
       "<style scoped>\n",
       "    .dataframe tbody tr th:only-of-type {\n",
       "        vertical-align: middle;\n",
       "    }\n",
       "\n",
       "    .dataframe tbody tr th {\n",
       "        vertical-align: top;\n",
       "    }\n",
       "\n",
       "    .dataframe thead th {\n",
       "        text-align: right;\n",
       "    }\n",
       "</style>\n",
       "<table border=\"1\" class=\"dataframe\">\n",
       "  <thead>\n",
       "    <tr style=\"text-align: right;\">\n",
       "      <th></th>\n",
       "      <th>preco_imov</th>\n",
       "      <th>id_imov</th>\n",
       "      <th>cidade</th>\n",
       "      <th>endereco</th>\n",
       "      <th>titulo_imov</th>\n",
       "      <th>vaga</th>\n",
       "      <th>banheiro</th>\n",
       "      <th>condominio</th>\n",
       "      <th>iptu</th>\n",
       "    </tr>\n",
       "  </thead>\n",
       "  <tbody>\n",
       "    <tr>\n",
       "      <th>0</th>\n",
       "      <td>R$ 535.000</td>\n",
       "      <td>Imóvel PEXGS5</td>\n",
       "      <td>Apartamento em Porto Alegre</td>\n",
       "      <td>Avenida Assis Brasil</td>\n",
       "      <td>Apartamento à venda em Niterói com 72 m², 3 qu...</td>\n",
       "      <td>3 quartos\\nsem suíte</td>\n",
       "      <td>1 Banheiro</td>\n",
       "      <td>R$ 420/mês</td>\n",
       "      <td>Isento</td>\n",
       "    </tr>\n",
       "    <tr>\n",
       "      <th>0</th>\n",
       "      <td>R$ 180.000</td>\n",
       "      <td>Imóvel S08XSE</td>\n",
       "      <td>Apartamento em Porto Alegre</td>\n",
       "      <td>Rua Professor Cristiano Fischer</td>\n",
       "      <td>Apartamento à venda em Jardim Salso com 62 m²,...</td>\n",
       "      <td>2 quartos\\nsem suíte</td>\n",
       "      <td>1 vaga</td>\n",
       "      <td>R$ 240/mês</td>\n",
       "      <td>R$ 66/ano</td>\n",
       "    </tr>\n",
       "    <tr>\n",
       "      <th>0</th>\n",
       "      <td>R$ 1.100.000</td>\n",
       "      <td>Imóvel 1RJT5ZO</td>\n",
       "      <td>Apartamento em Porto Alegre</td>\n",
       "      <td>Rua São Luís</td>\n",
       "      <td>Apartamento à venda em Santana com 234 m², 3 q...</td>\n",
       "      <td>3 quartos\\n1 suíte</td>\n",
       "      <td>2 vagas</td>\n",
       "      <td>R$ 537/mês</td>\n",
       "      <td>R$ 2.912/ano</td>\n",
       "    </tr>\n",
       "    <tr>\n",
       "      <th>0</th>\n",
       "      <td>R$ 350.000</td>\n",
       "      <td>Imóvel HB6LN8</td>\n",
       "      <td>Apartamento em Porto Alegre</td>\n",
       "      <td>Rua Ari Marinho</td>\n",
       "      <td>Apartamento à venda em Higienópolis com 68 m²,...</td>\n",
       "      <td>2 quartos\\nsem suíte</td>\n",
       "      <td>1 Banheiro</td>\n",
       "      <td>R$ 300/mês</td>\n",
       "      <td>R$ 33/mês</td>\n",
       "    </tr>\n",
       "    <tr>\n",
       "      <th>0</th>\n",
       "      <td>R$ 125.000</td>\n",
       "      <td>Imóvel VVX91J</td>\n",
       "      <td>Apartamento em Porto Alegre</td>\n",
       "      <td>Rua Orfanotrófio</td>\n",
       "      <td>Apartamento à venda em Santa Tereza com 49 m²,...</td>\n",
       "      <td>2 quartos\\nsem suíte</td>\n",
       "      <td>1 vaga</td>\n",
       "      <td>R$ 230/mês</td>\n",
       "      <td>R$ 230/ano</td>\n",
       "    </tr>\n",
       "    <tr>\n",
       "      <th>...</th>\n",
       "      <td>...</td>\n",
       "      <td>...</td>\n",
       "      <td>...</td>\n",
       "      <td>...</td>\n",
       "      <td>...</td>\n",
       "      <td>...</td>\n",
       "      <td>...</td>\n",
       "      <td>...</td>\n",
       "      <td>...</td>\n",
       "    </tr>\n",
       "    <tr>\n",
       "      <th>0</th>\n",
       "      <td>R$ 368.000</td>\n",
       "      <td>Imóvel 19W9WS8</td>\n",
       "      <td>Apartamento em Porto Alegre</td>\n",
       "      <td>Rua Pedro Américo</td>\n",
       "      <td>Apartamento à venda em São João com 92 m², 3 q...</td>\n",
       "      <td>3 quartos\\nsem suíte</td>\n",
       "      <td>1 Banheiro</td>\n",
       "      <td>R$ 300/mês</td>\n",
       "      <td>Isento</td>\n",
       "    </tr>\n",
       "    <tr>\n",
       "      <th>0</th>\n",
       "      <td>R$ 233.700</td>\n",
       "      <td>Imóvel 1O90Y32</td>\n",
       "      <td>Apartamento em Porto Alegre</td>\n",
       "      <td>Rua Luiz Afonso</td>\n",
       "      <td>Apartamento à venda em Cidade Baixa com 42 m²,...</td>\n",
       "      <td>1 quarto\\nsem suíte</td>\n",
       "      <td>1 Banheiro</td>\n",
       "      <td>R$ 250/mês</td>\n",
       "      <td>R$ 100/mês</td>\n",
       "    </tr>\n",
       "    <tr>\n",
       "      <th>0</th>\n",
       "      <td>R$ 1.250.000</td>\n",
       "      <td>Imóvel 1M4ZNT4</td>\n",
       "      <td>Apartamento em Porto Alegre</td>\n",
       "      <td>Rua Monroe</td>\n",
       "      <td>Apartamento à venda em Santa Tereza com 287 m²...</td>\n",
       "      <td>3 quartos\\n1 suíte</td>\n",
       "      <td>2 vagas</td>\n",
       "      <td>R$ 960/mês</td>\n",
       "      <td>R$ 1.200/ano</td>\n",
       "    </tr>\n",
       "    <tr>\n",
       "      <th>0</th>\n",
       "      <td>R$ 807.000</td>\n",
       "      <td>Imóvel 1L6UV84</td>\n",
       "      <td>Apartamento em Porto Alegre</td>\n",
       "      <td>Rua Comendador Rodolfo Gomes</td>\n",
       "      <td>Apartamento à venda em Menino Deus com 92 m², ...</td>\n",
       "      <td>3 quartos\\n1 suíte</td>\n",
       "      <td>1 vaga</td>\n",
       "      <td>R$ 1.000/mês</td>\n",
       "      <td>R$ 2.500/mês</td>\n",
       "    </tr>\n",
       "    <tr>\n",
       "      <th>0</th>\n",
       "      <td>R$ 1.800.000</td>\n",
       "      <td>Imóvel QFEX25</td>\n",
       "      <td>Casa de Condomínio em Porto Alegre</td>\n",
       "      <td>Rua Monte Alverne</td>\n",
       "      <td>Casa de Condomínio à venda em Chácara das Pedr...</td>\n",
       "      <td>3 quartos\\n1 suíte</td>\n",
       "      <td>5 Banheiros</td>\n",
       "      <td>R$ 1.600/mês</td>\n",
       "      <td>R$ 6.000/ano</td>\n",
       "    </tr>\n",
       "  </tbody>\n",
       "</table>\n",
       "<p>4975 rows × 9 columns</p>\n",
       "</div>"
      ],
      "text/plain": [
       "      preco_imov         id_imov                              cidade  \\\n",
       "0     R$ 535.000   Imóvel PEXGS5         Apartamento em Porto Alegre   \n",
       "0     R$ 180.000   Imóvel S08XSE         Apartamento em Porto Alegre   \n",
       "0   R$ 1.100.000  Imóvel 1RJT5ZO         Apartamento em Porto Alegre   \n",
       "0     R$ 350.000   Imóvel HB6LN8         Apartamento em Porto Alegre   \n",
       "0     R$ 125.000   Imóvel VVX91J         Apartamento em Porto Alegre   \n",
       "..           ...             ...                                 ...   \n",
       "0     R$ 368.000  Imóvel 19W9WS8         Apartamento em Porto Alegre   \n",
       "0     R$ 233.700  Imóvel 1O90Y32         Apartamento em Porto Alegre   \n",
       "0   R$ 1.250.000  Imóvel 1M4ZNT4         Apartamento em Porto Alegre   \n",
       "0     R$ 807.000  Imóvel 1L6UV84         Apartamento em Porto Alegre   \n",
       "0   R$ 1.800.000   Imóvel QFEX25  Casa de Condomínio em Porto Alegre   \n",
       "\n",
       "                           endereco  \\\n",
       "0              Avenida Assis Brasil   \n",
       "0   Rua Professor Cristiano Fischer   \n",
       "0                      Rua São Luís   \n",
       "0                   Rua Ari Marinho   \n",
       "0                  Rua Orfanotrófio   \n",
       "..                              ...   \n",
       "0                 Rua Pedro Américo   \n",
       "0                   Rua Luiz Afonso   \n",
       "0                        Rua Monroe   \n",
       "0      Rua Comendador Rodolfo Gomes   \n",
       "0                 Rua Monte Alverne   \n",
       "\n",
       "                                          titulo_imov                  vaga  \\\n",
       "0   Apartamento à venda em Niterói com 72 m², 3 qu...  3 quartos\\nsem suíte   \n",
       "0   Apartamento à venda em Jardim Salso com 62 m²,...  2 quartos\\nsem suíte   \n",
       "0   Apartamento à venda em Santana com 234 m², 3 q...    3 quartos\\n1 suíte   \n",
       "0   Apartamento à venda em Higienópolis com 68 m²,...  2 quartos\\nsem suíte   \n",
       "0   Apartamento à venda em Santa Tereza com 49 m²,...  2 quartos\\nsem suíte   \n",
       "..                                                ...                   ...   \n",
       "0   Apartamento à venda em São João com 92 m², 3 q...  3 quartos\\nsem suíte   \n",
       "0   Apartamento à venda em Cidade Baixa com 42 m²,...   1 quarto\\nsem suíte   \n",
       "0   Apartamento à venda em Santa Tereza com 287 m²...    3 quartos\\n1 suíte   \n",
       "0   Apartamento à venda em Menino Deus com 92 m², ...    3 quartos\\n1 suíte   \n",
       "0   Casa de Condomínio à venda em Chácara das Pedr...    3 quartos\\n1 suíte   \n",
       "\n",
       "       banheiro    condominio          iptu  \n",
       "0    1 Banheiro    R$ 420/mês        Isento  \n",
       "0        1 vaga    R$ 240/mês     R$ 66/ano  \n",
       "0       2 vagas    R$ 537/mês  R$ 2.912/ano  \n",
       "0    1 Banheiro    R$ 300/mês     R$ 33/mês  \n",
       "0        1 vaga    R$ 230/mês    R$ 230/ano  \n",
       "..          ...           ...           ...  \n",
       "0    1 Banheiro    R$ 300/mês        Isento  \n",
       "0    1 Banheiro    R$ 250/mês    R$ 100/mês  \n",
       "0       2 vagas    R$ 960/mês  R$ 1.200/ano  \n",
       "0        1 vaga  R$ 1.000/mês  R$ 2.500/mês  \n",
       "0   5 Banheiros  R$ 1.600/mês  R$ 6.000/ano  \n",
       "\n",
       "[4975 rows x 9 columns]"
      ]
     },
     "execution_count": 29,
     "metadata": {},
     "output_type": "execute_result"
    }
   ],
   "source": [
    "df_final_pa = pd.concat(df_list)\n",
    "df_final_pa"
   ]
  },
  {
   "cell_type": "code",
   "execution_count": 33,
   "id": "333cfabb",
   "metadata": {
    "ExecuteTime": {
     "end_time": "2022-09-18T03:15:27.387324Z",
     "start_time": "2022-09-18T03:15:27.338285Z"
    },
    "hidden": true
   },
   "outputs": [],
   "source": [
    "df_final_pa.to_csv(r\"C:\\Users\\T-GAMER\\Desktop\\Ironhack DA\\Projeto Final\\raw_dataset_pa.csv\", encoding = 'latin1')"
   ]
  },
  {
   "cell_type": "code",
   "execution_count": 31,
   "id": "5662de7a",
   "metadata": {
    "ExecuteTime": {
     "end_time": "2022-09-18T20:08:13.634802Z",
     "start_time": "2022-09-18T20:08:13.418734Z"
    },
    "hidden": true
   },
   "outputs": [
    {
     "data": {
      "text/html": [
       "<div>\n",
       "<style scoped>\n",
       "    .dataframe tbody tr th:only-of-type {\n",
       "        vertical-align: middle;\n",
       "    }\n",
       "\n",
       "    .dataframe tbody tr th {\n",
       "        vertical-align: top;\n",
       "    }\n",
       "\n",
       "    .dataframe thead th {\n",
       "        text-align: right;\n",
       "    }\n",
       "</style>\n",
       "<table border=\"1\" class=\"dataframe\">\n",
       "  <thead>\n",
       "    <tr style=\"text-align: right;\">\n",
       "      <th></th>\n",
       "      <th>preco_imov</th>\n",
       "      <th>id_imov</th>\n",
       "      <th>cidade</th>\n",
       "      <th>endereco</th>\n",
       "      <th>titulo_imov</th>\n",
       "      <th>vaga</th>\n",
       "      <th>banheiro</th>\n",
       "      <th>condominio</th>\n",
       "      <th>iptu</th>\n",
       "    </tr>\n",
       "  </thead>\n",
       "  <tbody>\n",
       "    <tr>\n",
       "      <th>0</th>\n",
       "      <td>R$ 340.000</td>\n",
       "      <td>Imóvel E11NI0</td>\n",
       "      <td>Apartamento em Rio de Janeiro</td>\n",
       "      <td>Avenida Dom Hélder Câmara</td>\n",
       "      <td>Apartamento à venda em Penha com 49 m², 2 quar...</td>\n",
       "      <td>2 quartos\\nsem suíte</td>\n",
       "      <td>1 vaga</td>\n",
       "      <td>R$ 413/mês</td>\n",
       "      <td>R$ 240/ano</td>\n",
       "    </tr>\n",
       "    <tr>\n",
       "      <th>0</th>\n",
       "      <td>R$ 1.150.000</td>\n",
       "      <td>Imóvel R37EZV</td>\n",
       "      <td>Apartamento em Rio de Janeiro</td>\n",
       "      <td>Rua Otaviano Hudson</td>\n",
       "      <td>Apartamento à venda em Copacabana com 82 m², 3...</td>\n",
       "      <td>3 quartos\\n1 suíte</td>\n",
       "      <td>1 vaga</td>\n",
       "      <td>R$ 1.212/mês</td>\n",
       "      <td>R$ 307/mês</td>\n",
       "    </tr>\n",
       "    <tr>\n",
       "      <th>0</th>\n",
       "      <td>R$ 1.200.000</td>\n",
       "      <td>Imóvel MOIQAX</td>\n",
       "      <td>Apartamento em Rio de Janeiro</td>\n",
       "      <td>Rua Paissandu</td>\n",
       "      <td>Apartamento à venda em Laranjeiras com 85 m², ...</td>\n",
       "      <td>3 quartos\\nsem suíte</td>\n",
       "      <td>1 vaga</td>\n",
       "      <td>R$ 1.600/mês</td>\n",
       "      <td>R$ 2.143/ano</td>\n",
       "    </tr>\n",
       "    <tr>\n",
       "      <th>0</th>\n",
       "      <td>R$ 480.000</td>\n",
       "      <td>Imóvel QOZQAQ</td>\n",
       "      <td>Apartamento em Rio de Janeiro</td>\n",
       "      <td>Avenida Prado Júnior</td>\n",
       "      <td>Apartamento à venda em Copacabana com 30 m², 1...</td>\n",
       "      <td>1 quarto\\nsem suíte</td>\n",
       "      <td>1 Banheiro</td>\n",
       "      <td>R$ 615/mês</td>\n",
       "      <td>R$ 82/mês</td>\n",
       "    </tr>\n",
       "    <tr>\n",
       "      <th>0</th>\n",
       "      <td>R$ 1.350.000</td>\n",
       "      <td>Imóvel 1Q2R4LP</td>\n",
       "      <td>Apartamento em Rio de Janeiro</td>\n",
       "      <td>Rua Pereira da Silva</td>\n",
       "      <td>Apartamento à venda em Laranjeiras com 90 m², ...</td>\n",
       "      <td>3 quartos\\n1 suíte</td>\n",
       "      <td>1 vaga</td>\n",
       "      <td>R$ 1.400/mês</td>\n",
       "      <td>R$ 1.994/ano</td>\n",
       "    </tr>\n",
       "    <tr>\n",
       "      <th>...</th>\n",
       "      <td>...</td>\n",
       "      <td>...</td>\n",
       "      <td>...</td>\n",
       "      <td>...</td>\n",
       "      <td>...</td>\n",
       "      <td>...</td>\n",
       "      <td>...</td>\n",
       "      <td>...</td>\n",
       "      <td>...</td>\n",
       "    </tr>\n",
       "    <tr>\n",
       "      <th>0</th>\n",
       "      <td>R$ 1.200.000</td>\n",
       "      <td>Imóvel 1KXD2SR</td>\n",
       "      <td>Apartamento em Rio de Janeiro</td>\n",
       "      <td>Avenida Carlos Peixoto</td>\n",
       "      <td>Apartamento à venda em Botafogo com 94 m², 3 q...</td>\n",
       "      <td>3 quartos\\n1 suíte</td>\n",
       "      <td>1 vaga</td>\n",
       "      <td>R$ 1.962/mês</td>\n",
       "      <td>R$ 359/mês</td>\n",
       "    </tr>\n",
       "    <tr>\n",
       "      <th>0</th>\n",
       "      <td>R$ 1.150.000</td>\n",
       "      <td>Imóvel 13P4EDA</td>\n",
       "      <td>Apartamento em Rio de Janeiro</td>\n",
       "      <td>Rua Figueiredo Magalhães</td>\n",
       "      <td>Apartamento à venda em Copacabana com 136 m², ...</td>\n",
       "      <td>3 quartos\\n1 suíte</td>\n",
       "      <td>1 vaga</td>\n",
       "      <td>R$ 1.600/mês</td>\n",
       "      <td>Isento</td>\n",
       "    </tr>\n",
       "    <tr>\n",
       "      <th>0</th>\n",
       "      <td>R$ 1.440.000</td>\n",
       "      <td>Imóvel 15OKJYS</td>\n",
       "      <td>Apartamento em Rio de Janeiro</td>\n",
       "      <td>Rua Inhanga</td>\n",
       "      <td>Apartamento à venda em Copacabana com 220 m², ...</td>\n",
       "      <td>4 quartos\\n1 suíte</td>\n",
       "      <td>4 Banheiros</td>\n",
       "      <td>R$ 2.600/mês</td>\n",
       "      <td>R$ 632/mês</td>\n",
       "    </tr>\n",
       "    <tr>\n",
       "      <th>0</th>\n",
       "      <td>R$ 3.600.000</td>\n",
       "      <td>Imóvel WPG5ZI</td>\n",
       "      <td>Apartamento em Rio de Janeiro</td>\n",
       "      <td>Avenida Atlântica</td>\n",
       "      <td>Apartamento à venda em Copacabana com 240 m², ...</td>\n",
       "      <td>4 quartos\\n4 suítes</td>\n",
       "      <td>1 vaga</td>\n",
       "      <td>R$ 3.450/mês</td>\n",
       "      <td>R$ 1.010/mês</td>\n",
       "    </tr>\n",
       "    <tr>\n",
       "      <th>0</th>\n",
       "      <td>R$ 1.700.000</td>\n",
       "      <td>Imóvel KODV4N</td>\n",
       "      <td>Apartamento em Rio de Janeiro</td>\n",
       "      <td>Avenida Nossa Senhora de Copacabana</td>\n",
       "      <td>Apartamento à venda em Copacabana com 370 m², ...</td>\n",
       "      <td>5 quartos\\n2 suítes</td>\n",
       "      <td>1 vaga</td>\n",
       "      <td>R$ 3.600/mês</td>\n",
       "      <td>R$ 900/mês</td>\n",
       "    </tr>\n",
       "  </tbody>\n",
       "</table>\n",
       "<p>4974 rows × 9 columns</p>\n",
       "</div>"
      ],
      "text/plain": [
       "      preco_imov         id_imov                         cidade  \\\n",
       "0     R$ 340.000   Imóvel E11NI0  Apartamento em Rio de Janeiro   \n",
       "0   R$ 1.150.000   Imóvel R37EZV  Apartamento em Rio de Janeiro   \n",
       "0   R$ 1.200.000   Imóvel MOIQAX  Apartamento em Rio de Janeiro   \n",
       "0     R$ 480.000   Imóvel QOZQAQ  Apartamento em Rio de Janeiro   \n",
       "0   R$ 1.350.000  Imóvel 1Q2R4LP  Apartamento em Rio de Janeiro   \n",
       "..           ...             ...                            ...   \n",
       "0   R$ 1.200.000  Imóvel 1KXD2SR  Apartamento em Rio de Janeiro   \n",
       "0   R$ 1.150.000  Imóvel 13P4EDA  Apartamento em Rio de Janeiro   \n",
       "0   R$ 1.440.000  Imóvel 15OKJYS  Apartamento em Rio de Janeiro   \n",
       "0   R$ 3.600.000   Imóvel WPG5ZI  Apartamento em Rio de Janeiro   \n",
       "0   R$ 1.700.000   Imóvel KODV4N  Apartamento em Rio de Janeiro   \n",
       "\n",
       "                               endereco  \\\n",
       "0             Avenida Dom Hélder Câmara   \n",
       "0                   Rua Otaviano Hudson   \n",
       "0                         Rua Paissandu   \n",
       "0                  Avenida Prado Júnior   \n",
       "0                  Rua Pereira da Silva   \n",
       "..                                  ...   \n",
       "0                Avenida Carlos Peixoto   \n",
       "0              Rua Figueiredo Magalhães   \n",
       "0                           Rua Inhanga   \n",
       "0                     Avenida Atlântica   \n",
       "0   Avenida Nossa Senhora de Copacabana   \n",
       "\n",
       "                                          titulo_imov                  vaga  \\\n",
       "0   Apartamento à venda em Penha com 49 m², 2 quar...  2 quartos\\nsem suíte   \n",
       "0   Apartamento à venda em Copacabana com 82 m², 3...    3 quartos\\n1 suíte   \n",
       "0   Apartamento à venda em Laranjeiras com 85 m², ...  3 quartos\\nsem suíte   \n",
       "0   Apartamento à venda em Copacabana com 30 m², 1...   1 quarto\\nsem suíte   \n",
       "0   Apartamento à venda em Laranjeiras com 90 m², ...    3 quartos\\n1 suíte   \n",
       "..                                                ...                   ...   \n",
       "0   Apartamento à venda em Botafogo com 94 m², 3 q...    3 quartos\\n1 suíte   \n",
       "0   Apartamento à venda em Copacabana com 136 m², ...    3 quartos\\n1 suíte   \n",
       "0   Apartamento à venda em Copacabana com 220 m², ...    4 quartos\\n1 suíte   \n",
       "0   Apartamento à venda em Copacabana com 240 m², ...   4 quartos\\n4 suítes   \n",
       "0   Apartamento à venda em Copacabana com 370 m², ...   5 quartos\\n2 suítes   \n",
       "\n",
       "       banheiro    condominio          iptu  \n",
       "0        1 vaga    R$ 413/mês    R$ 240/ano  \n",
       "0        1 vaga  R$ 1.212/mês    R$ 307/mês  \n",
       "0        1 vaga  R$ 1.600/mês  R$ 2.143/ano  \n",
       "0    1 Banheiro    R$ 615/mês     R$ 82/mês  \n",
       "0        1 vaga  R$ 1.400/mês  R$ 1.994/ano  \n",
       "..          ...           ...           ...  \n",
       "0        1 vaga  R$ 1.962/mês    R$ 359/mês  \n",
       "0        1 vaga  R$ 1.600/mês        Isento  \n",
       "0   4 Banheiros  R$ 2.600/mês    R$ 632/mês  \n",
       "0        1 vaga  R$ 3.450/mês  R$ 1.010/mês  \n",
       "0        1 vaga  R$ 3.600/mês    R$ 900/mês  \n",
       "\n",
       "[4974 rows x 9 columns]"
      ]
     },
     "execution_count": 31,
     "metadata": {},
     "output_type": "execute_result"
    }
   ],
   "source": [
    "df_final_rj = pd.concat(df_list)\n",
    "df_final_rj"
   ]
  },
  {
   "cell_type": "code",
   "execution_count": 32,
   "id": "01233f3c",
   "metadata": {
    "ExecuteTime": {
     "end_time": "2022-09-18T20:09:14.112023Z",
     "start_time": "2022-09-18T20:09:14.067108Z"
    },
    "hidden": true
   },
   "outputs": [],
   "source": [
    "df_final_rj.to_csv(r\"C:\\Users\\T-GAMER\\Desktop\\Ironhack DA\\Projeto Final\\raw_dataset_rj.csv\", encoding = 'latin1')"
   ]
  },
  {
   "cell_type": "code",
   "execution_count": 47,
   "id": "a676ebfc",
   "metadata": {
    "ExecuteTime": {
     "end_time": "2022-09-19T01:03:30.979477Z",
     "start_time": "2022-09-19T01:03:30.834202Z"
    },
    "hidden": true
   },
   "outputs": [
    {
     "data": {
      "text/html": [
       "<div>\n",
       "<style scoped>\n",
       "    .dataframe tbody tr th:only-of-type {\n",
       "        vertical-align: middle;\n",
       "    }\n",
       "\n",
       "    .dataframe tbody tr th {\n",
       "        vertical-align: top;\n",
       "    }\n",
       "\n",
       "    .dataframe thead th {\n",
       "        text-align: right;\n",
       "    }\n",
       "</style>\n",
       "<table border=\"1\" class=\"dataframe\">\n",
       "  <thead>\n",
       "    <tr style=\"text-align: right;\">\n",
       "      <th></th>\n",
       "      <th>preco_imov</th>\n",
       "      <th>id_imov</th>\n",
       "      <th>cidade</th>\n",
       "      <th>endereco</th>\n",
       "      <th>titulo_imov</th>\n",
       "      <th>vaga</th>\n",
       "      <th>banheiro</th>\n",
       "      <th>condominio</th>\n",
       "      <th>iptu</th>\n",
       "    </tr>\n",
       "  </thead>\n",
       "  <tbody>\n",
       "    <tr>\n",
       "      <th>0</th>\n",
       "      <td>R$ 390.000</td>\n",
       "      <td>Imóvel 122XXGY</td>\n",
       "      <td>Apartamento em Belo Horizonte</td>\n",
       "      <td>Rua José Mendes de Carvalho</td>\n",
       "      <td>Apartamento à venda em Castelo com 115 m², 4 q...</td>\n",
       "      <td>4 quartos\\n1 suíte</td>\n",
       "      <td>2 vagas</td>\n",
       "      <td>R$ 325/mês</td>\n",
       "      <td>R$ 1.260/ano</td>\n",
       "    </tr>\n",
       "    <tr>\n",
       "      <th>0</th>\n",
       "      <td>R$ 330.000</td>\n",
       "      <td>Imóvel PV674P</td>\n",
       "      <td>Apartamento em Belo Horizonte</td>\n",
       "      <td>Rua Geraldo Faria de Souza</td>\n",
       "      <td>Apartamento à venda em Sagrada Família com 106...</td>\n",
       "      <td>3 quartos\\n1 suíte</td>\n",
       "      <td>1 vaga</td>\n",
       "      <td>R$ 330/mês</td>\n",
       "      <td>R$ 133/ano</td>\n",
       "    </tr>\n",
       "    <tr>\n",
       "      <th>0</th>\n",
       "      <td>R$ 340.000</td>\n",
       "      <td>Imóvel H0JAZ5</td>\n",
       "      <td>Apartamento em Belo Horizonte</td>\n",
       "      <td>Rua Castelo de São Jorge</td>\n",
       "      <td>Apartamento à venda em Castelo com 75 m², 3 qu...</td>\n",
       "      <td>3 quartos\\n1 suíte</td>\n",
       "      <td>2 vagas</td>\n",
       "      <td>R$ 380/mês</td>\n",
       "      <td>R$ 145/ano</td>\n",
       "    </tr>\n",
       "    <tr>\n",
       "      <th>0</th>\n",
       "      <td>R$ 1.190.000</td>\n",
       "      <td>Imóvel B817P6</td>\n",
       "      <td>Apartamento em Belo Horizonte</td>\n",
       "      <td>Rua Boa Esperança</td>\n",
       "      <td>Apartamento à venda em Sion com 150 m², 4 quar...</td>\n",
       "      <td>4 quartos\\n1 suíte</td>\n",
       "      <td>2 vagas</td>\n",
       "      <td>R$ 700/mês</td>\n",
       "      <td>R$ 5.786/ano</td>\n",
       "    </tr>\n",
       "    <tr>\n",
       "      <th>0</th>\n",
       "      <td>R$ 480.000</td>\n",
       "      <td>Imóvel 14D84PD</td>\n",
       "      <td>Apartamento em Belo Horizonte</td>\n",
       "      <td>Rua Ulisses Marcondes Escobar</td>\n",
       "      <td>Apartamento à venda em Buritis com 100 m², 3 q...</td>\n",
       "      <td>3 quartos\\n1 suíte</td>\n",
       "      <td>2 vagas</td>\n",
       "      <td>R$ 550/mês</td>\n",
       "      <td>R$ 177/ano</td>\n",
       "    </tr>\n",
       "    <tr>\n",
       "      <th>...</th>\n",
       "      <td>...</td>\n",
       "      <td>...</td>\n",
       "      <td>...</td>\n",
       "      <td>...</td>\n",
       "      <td>...</td>\n",
       "      <td>...</td>\n",
       "      <td>...</td>\n",
       "      <td>...</td>\n",
       "      <td>...</td>\n",
       "    </tr>\n",
       "    <tr>\n",
       "      <th>0</th>\n",
       "      <td>R$ 217.000</td>\n",
       "      <td>Imóvel LSESEF</td>\n",
       "      <td>Apartamento em Belo Horizonte</td>\n",
       "      <td>Rua das Chácaras</td>\n",
       "      <td>Apartamento à venda em Maria Helena com 47 m²,...</td>\n",
       "      <td>2 quartos\\nsem suíte</td>\n",
       "      <td>1 vaga</td>\n",
       "      <td>R$ 288/mês</td>\n",
       "      <td>R$ 45/mês</td>\n",
       "    </tr>\n",
       "    <tr>\n",
       "      <th>0</th>\n",
       "      <td>R$ 240.000</td>\n",
       "      <td>Imóvel COA60K</td>\n",
       "      <td>Apartamento em Belo Horizonte</td>\n",
       "      <td>Rua W Quatro</td>\n",
       "      <td>Apartamento à venda em Pongelupe com 68 m², 3 ...</td>\n",
       "      <td>3 quartos\\nsem suíte</td>\n",
       "      <td>1 vaga</td>\n",
       "      <td>R$ 95/mês</td>\n",
       "      <td>Isento</td>\n",
       "    </tr>\n",
       "    <tr>\n",
       "      <th>0</th>\n",
       "      <td>R$ 220.000</td>\n",
       "      <td>Imóvel 1UB7Y4V</td>\n",
       "      <td>Apartamento em Belo Horizonte</td>\n",
       "      <td>Rua Cachoeira da Prata</td>\n",
       "      <td>Apartamento à venda em Pindorama com 44 m², 2 ...</td>\n",
       "      <td>2 quartos\\nsem suíte</td>\n",
       "      <td>1 vaga</td>\n",
       "      <td>R$ 350/mês</td>\n",
       "      <td>R$ 99/ano</td>\n",
       "    </tr>\n",
       "    <tr>\n",
       "      <th>0</th>\n",
       "      <td>R$ 150.000</td>\n",
       "      <td>Imóvel 1S1LTP8</td>\n",
       "      <td>Apartamento em Belo Horizonte</td>\n",
       "      <td>Rua Monte Real</td>\n",
       "      <td>Apartamento à venda em Granja de Freitas com 4...</td>\n",
       "      <td>2 quartos\\nsem suíte</td>\n",
       "      <td>1 vaga</td>\n",
       "      <td>R$ 50/mês</td>\n",
       "      <td>Isento</td>\n",
       "    </tr>\n",
       "    <tr>\n",
       "      <th>0</th>\n",
       "      <td>R$ 190.000</td>\n",
       "      <td>Imóvel NUQJA6</td>\n",
       "      <td>Apartamento em Belo Horizonte</td>\n",
       "      <td>Avenida Leontino Francisco Alves</td>\n",
       "      <td>Apartamento à venda em Serra Verde com 56 m², ...</td>\n",
       "      <td>2 quartos\\nsem suíte</td>\n",
       "      <td>1 vaga</td>\n",
       "      <td>R$ 100/mês</td>\n",
       "      <td>R$ 1/mês</td>\n",
       "    </tr>\n",
       "  </tbody>\n",
       "</table>\n",
       "<p>4975 rows × 9 columns</p>\n",
       "</div>"
      ],
      "text/plain": [
       "      preco_imov         id_imov                         cidade  \\\n",
       "0     R$ 390.000  Imóvel 122XXGY  Apartamento em Belo Horizonte   \n",
       "0     R$ 330.000   Imóvel PV674P  Apartamento em Belo Horizonte   \n",
       "0     R$ 340.000   Imóvel H0JAZ5  Apartamento em Belo Horizonte   \n",
       "0   R$ 1.190.000   Imóvel B817P6  Apartamento em Belo Horizonte   \n",
       "0     R$ 480.000  Imóvel 14D84PD  Apartamento em Belo Horizonte   \n",
       "..           ...             ...                            ...   \n",
       "0     R$ 217.000   Imóvel LSESEF  Apartamento em Belo Horizonte   \n",
       "0     R$ 240.000   Imóvel COA60K  Apartamento em Belo Horizonte   \n",
       "0     R$ 220.000  Imóvel 1UB7Y4V  Apartamento em Belo Horizonte   \n",
       "0     R$ 150.000  Imóvel 1S1LTP8  Apartamento em Belo Horizonte   \n",
       "0     R$ 190.000   Imóvel NUQJA6  Apartamento em Belo Horizonte   \n",
       "\n",
       "                            endereco  \\\n",
       "0        Rua José Mendes de Carvalho   \n",
       "0         Rua Geraldo Faria de Souza   \n",
       "0           Rua Castelo de São Jorge   \n",
       "0                  Rua Boa Esperança   \n",
       "0      Rua Ulisses Marcondes Escobar   \n",
       "..                               ...   \n",
       "0                   Rua das Chácaras   \n",
       "0                       Rua W Quatro   \n",
       "0             Rua Cachoeira da Prata   \n",
       "0                     Rua Monte Real   \n",
       "0   Avenida Leontino Francisco Alves   \n",
       "\n",
       "                                          titulo_imov                  vaga  \\\n",
       "0   Apartamento à venda em Castelo com 115 m², 4 q...    4 quartos\\n1 suíte   \n",
       "0   Apartamento à venda em Sagrada Família com 106...    3 quartos\\n1 suíte   \n",
       "0   Apartamento à venda em Castelo com 75 m², 3 qu...    3 quartos\\n1 suíte   \n",
       "0   Apartamento à venda em Sion com 150 m², 4 quar...    4 quartos\\n1 suíte   \n",
       "0   Apartamento à venda em Buritis com 100 m², 3 q...    3 quartos\\n1 suíte   \n",
       "..                                                ...                   ...   \n",
       "0   Apartamento à venda em Maria Helena com 47 m²,...  2 quartos\\nsem suíte   \n",
       "0   Apartamento à venda em Pongelupe com 68 m², 3 ...  3 quartos\\nsem suíte   \n",
       "0   Apartamento à venda em Pindorama com 44 m², 2 ...  2 quartos\\nsem suíte   \n",
       "0   Apartamento à venda em Granja de Freitas com 4...  2 quartos\\nsem suíte   \n",
       "0   Apartamento à venda em Serra Verde com 56 m², ...  2 quartos\\nsem suíte   \n",
       "\n",
       "   banheiro  condominio          iptu  \n",
       "0   2 vagas  R$ 325/mês  R$ 1.260/ano  \n",
       "0    1 vaga  R$ 330/mês    R$ 133/ano  \n",
       "0   2 vagas  R$ 380/mês    R$ 145/ano  \n",
       "0   2 vagas  R$ 700/mês  R$ 5.786/ano  \n",
       "0   2 vagas  R$ 550/mês    R$ 177/ano  \n",
       "..      ...         ...           ...  \n",
       "0    1 vaga  R$ 288/mês     R$ 45/mês  \n",
       "0    1 vaga   R$ 95/mês        Isento  \n",
       "0    1 vaga  R$ 350/mês     R$ 99/ano  \n",
       "0    1 vaga   R$ 50/mês        Isento  \n",
       "0    1 vaga  R$ 100/mês      R$ 1/mês  \n",
       "\n",
       "[4975 rows x 9 columns]"
      ]
     },
     "execution_count": 47,
     "metadata": {},
     "output_type": "execute_result"
    }
   ],
   "source": [
    "df_final_bh = pd.concat(df_list)\n",
    "df_final_bh"
   ]
  },
  {
   "cell_type": "code",
   "execution_count": 48,
   "id": "a9d34d8f",
   "metadata": {
    "ExecuteTime": {
     "end_time": "2022-09-19T01:03:55.182212Z",
     "start_time": "2022-09-19T01:03:55.145213Z"
    },
    "hidden": true
   },
   "outputs": [],
   "source": [
    "df_final_bh.to_csv(r\"C:\\Users\\T-GAMER\\Desktop\\Ironhack DA\\Projeto Final\\raw_dataset_bh.csv\", encoding = 'latin1')"
   ]
  },
  {
   "cell_type": "markdown",
   "id": "06de0967",
   "metadata": {},
   "source": [
    "# Data Cleaning"
   ]
  },
  {
   "cell_type": "code",
   "execution_count": null,
   "id": "1d1bc2b1",
   "metadata": {},
   "outputs": [],
   "source": [
    "# importar todos os CSVs e junta-los em um unico Data Frame\n",
    "# criar a coluna de distancia do marco 0 de SP em um raio de 30km\n",
    "# segregar em zonas para facilitar analiuse "
   ]
  },
  {
   "cell_type": "code",
   "execution_count": null,
   "id": "83bcf7f5",
   "metadata": {},
   "outputs": [],
   "source": []
  },
  {
   "cell_type": "code",
   "execution_count": 2,
   "id": "44304d8d",
   "metadata": {
    "ExecuteTime": {
     "end_time": "2022-09-20T19:10:11.473351Z",
     "start_time": "2022-09-20T19:10:11.390707Z"
    }
   },
   "outputs": [],
   "source": [
    "df_sp = pd.read_csv('raw_dataset_sp.csv', encoding = 'latin1')\n",
    "df_pa = pd.read_csv('raw_dataset_pa.csv', encoding = 'latin1')\n",
    "df_rj = pd.read_csv('raw_dataset_rj.csv', encoding = 'latin1')\n",
    "df_bh = pd.read_csv('raw_dataset_bh.csv', encoding = 'latin1')"
   ]
  },
  {
   "cell_type": "code",
   "execution_count": 27,
   "id": "587ac653",
   "metadata": {
    "ExecuteTime": {
     "end_time": "2022-09-19T21:22:27.418972Z",
     "start_time": "2022-09-19T21:22:27.394965Z"
    }
   },
   "outputs": [
    {
     "name": "stdout",
     "output_type": "stream",
     "text": [
      "<class 'pandas.core.frame.DataFrame'>\n",
      "RangeIndex: 4968 entries, 0 to 4967\n",
      "Data columns (total 9 columns):\n",
      " #   Column       Non-Null Count  Dtype \n",
      "---  ------       --------------  ----- \n",
      " 0   preco_imov   4968 non-null   object\n",
      " 1   id_imov      4968 non-null   object\n",
      " 2   cidade       4968 non-null   object\n",
      " 3   endereco     4968 non-null   object\n",
      " 4   titulo_imov  4968 non-null   object\n",
      " 5   vaga         4968 non-null   object\n",
      " 6   banheiro     4968 non-null   object\n",
      " 7   condominio   4968 non-null   object\n",
      " 8   iptu         4968 non-null   object\n",
      "dtypes: object(9)\n",
      "memory usage: 349.4+ KB\n"
     ]
    }
   ],
   "source": [
    "df_sp.info()"
   ]
  },
  {
   "cell_type": "code",
   "execution_count": 28,
   "id": "db30d253",
   "metadata": {
    "ExecuteTime": {
     "end_time": "2022-09-19T21:23:00.304927Z",
     "start_time": "2022-09-19T21:23:00.289928Z"
    }
   },
   "outputs": [
    {
     "name": "stdout",
     "output_type": "stream",
     "text": [
      "<class 'pandas.core.frame.DataFrame'>\n",
      "RangeIndex: 4975 entries, 0 to 4974\n",
      "Data columns (total 10 columns):\n",
      " #   Column       Non-Null Count  Dtype \n",
      "---  ------       --------------  ----- \n",
      " 0   Unnamed: 0   4975 non-null   int64 \n",
      " 1   preco_imov   4975 non-null   object\n",
      " 2   id_imov      4975 non-null   object\n",
      " 3   cidade       4975 non-null   object\n",
      " 4   endereco     4975 non-null   object\n",
      " 5   titulo_imov  4975 non-null   object\n",
      " 6   vaga         4975 non-null   object\n",
      " 7   banheiro     4975 non-null   object\n",
      " 8   condominio   4975 non-null   object\n",
      " 9   iptu         4975 non-null   object\n",
      "dtypes: int64(1), object(9)\n",
      "memory usage: 388.8+ KB\n"
     ]
    }
   ],
   "source": [
    "df_pa.info()"
   ]
  },
  {
   "cell_type": "code",
   "execution_count": 29,
   "id": "b8307080",
   "metadata": {
    "ExecuteTime": {
     "end_time": "2022-09-19T21:23:09.962742Z",
     "start_time": "2022-09-19T21:23:09.937744Z"
    }
   },
   "outputs": [
    {
     "name": "stdout",
     "output_type": "stream",
     "text": [
      "<class 'pandas.core.frame.DataFrame'>\n",
      "RangeIndex: 4974 entries, 0 to 4973\n",
      "Data columns (total 10 columns):\n",
      " #   Column       Non-Null Count  Dtype \n",
      "---  ------       --------------  ----- \n",
      " 0   Unnamed: 0   4974 non-null   int64 \n",
      " 1   preco_imov   4974 non-null   object\n",
      " 2   id_imov      4974 non-null   object\n",
      " 3   cidade       4974 non-null   object\n",
      " 4   endereco     4974 non-null   object\n",
      " 5   titulo_imov  4974 non-null   object\n",
      " 6   vaga         4974 non-null   object\n",
      " 7   banheiro     4974 non-null   object\n",
      " 8   condominio   4974 non-null   object\n",
      " 9   iptu         4974 non-null   object\n",
      "dtypes: int64(1), object(9)\n",
      "memory usage: 388.7+ KB\n"
     ]
    }
   ],
   "source": [
    "df_rj.info()"
   ]
  },
  {
   "cell_type": "code",
   "execution_count": 30,
   "id": "2e1648fe",
   "metadata": {
    "ExecuteTime": {
     "end_time": "2022-09-19T21:23:19.017935Z",
     "start_time": "2022-09-19T21:23:19.001938Z"
    }
   },
   "outputs": [
    {
     "name": "stdout",
     "output_type": "stream",
     "text": [
      "<class 'pandas.core.frame.DataFrame'>\n",
      "RangeIndex: 4975 entries, 0 to 4974\n",
      "Data columns (total 10 columns):\n",
      " #   Column       Non-Null Count  Dtype \n",
      "---  ------       --------------  ----- \n",
      " 0   Unnamed: 0   4975 non-null   int64 \n",
      " 1   preco_imov   4975 non-null   object\n",
      " 2   id_imov      4975 non-null   object\n",
      " 3   cidade       4975 non-null   object\n",
      " 4   endereco     4975 non-null   object\n",
      " 5   titulo_imov  4975 non-null   object\n",
      " 6   vaga         4975 non-null   object\n",
      " 7   banheiro     4975 non-null   object\n",
      " 8   condominio   4975 non-null   object\n",
      " 9   iptu         4975 non-null   object\n",
      "dtypes: int64(1), object(9)\n",
      "memory usage: 388.8+ KB\n"
     ]
    }
   ],
   "source": [
    "df_bh.info()"
   ]
  },
  {
   "cell_type": "code",
   "execution_count": 3,
   "id": "14b30a2c",
   "metadata": {
    "ExecuteTime": {
     "end_time": "2022-09-20T19:10:44.322010Z",
     "start_time": "2022-09-20T19:10:44.310006Z"
    }
   },
   "outputs": [],
   "source": [
    "df_total = pd.concat([df_sp, df_pa, df_rj, df_bh])"
   ]
  },
  {
   "cell_type": "code",
   "execution_count": 4,
   "id": "f0083d76",
   "metadata": {
    "ExecuteTime": {
     "end_time": "2022-09-20T19:10:46.372836Z",
     "start_time": "2022-09-20T19:10:46.341321Z"
    }
   },
   "outputs": [
    {
     "data": {
      "text/html": [
       "<div>\n",
       "<style scoped>\n",
       "    .dataframe tbody tr th:only-of-type {\n",
       "        vertical-align: middle;\n",
       "    }\n",
       "\n",
       "    .dataframe tbody tr th {\n",
       "        vertical-align: top;\n",
       "    }\n",
       "\n",
       "    .dataframe thead th {\n",
       "        text-align: right;\n",
       "    }\n",
       "</style>\n",
       "<table border=\"1\" class=\"dataframe\">\n",
       "  <thead>\n",
       "    <tr style=\"text-align: right;\">\n",
       "      <th></th>\n",
       "      <th>Unnamed: 0</th>\n",
       "      <th>preco_imov</th>\n",
       "      <th>id_imov</th>\n",
       "      <th>cidade</th>\n",
       "      <th>endereco</th>\n",
       "      <th>titulo_imov</th>\n",
       "      <th>vaga</th>\n",
       "      <th>banheiro</th>\n",
       "      <th>etc_apart</th>\n",
       "      <th>condominio</th>\n",
       "      <th>iptu</th>\n",
       "    </tr>\n",
       "  </thead>\n",
       "  <tbody>\n",
       "    <tr>\n",
       "      <th>0</th>\n",
       "      <td>0</td>\n",
       "      <td>R$ 1.484.000</td>\n",
       "      <td>Imóvel 1RUQ6KB</td>\n",
       "      <td>Apartamento em São Paulo</td>\n",
       "      <td>Rua dos Pinheiros</td>\n",
       "      <td>Apartamento à venda em Pinheiros com 68 m², 2 ...</td>\n",
       "      <td>1 vaga</td>\n",
       "      <td>2 Banheiros</td>\n",
       "      <td>Lavabo</td>\n",
       "      <td>R$ 530/mês</td>\n",
       "      <td>R$ 1.830/ano</td>\n",
       "    </tr>\n",
       "    <tr>\n",
       "      <th>1</th>\n",
       "      <td>0</td>\n",
       "      <td>R$ 1.200.000</td>\n",
       "      <td>Imóvel 1NDUYA8</td>\n",
       "      <td>Apartamento em São Paulo</td>\n",
       "      <td>Rua Camburiú</td>\n",
       "      <td>Apartamento à venda em Alto da Lapa com 115 m²...</td>\n",
       "      <td>2 vagas</td>\n",
       "      <td>2 Banheiros</td>\n",
       "      <td>Posição da unidade</td>\n",
       "      <td>R$ 1.195/mês</td>\n",
       "      <td>R$ 391/mês</td>\n",
       "    </tr>\n",
       "    <tr>\n",
       "      <th>2</th>\n",
       "      <td>0</td>\n",
       "      <td>R$ 1.160.000</td>\n",
       "      <td>Imóvel 1UT6HT2</td>\n",
       "      <td>Apartamento em São Paulo</td>\n",
       "      <td>Rua Cunha Gago</td>\n",
       "      <td>Apartamento à venda em Pinheiros com 60 m², 2 ...</td>\n",
       "      <td>1 vaga</td>\n",
       "      <td>2 Banheiros</td>\n",
       "      <td>Indisponivel</td>\n",
       "      <td>R$ 984/mês</td>\n",
       "      <td>R$ 276/mês</td>\n",
       "    </tr>\n",
       "    <tr>\n",
       "      <th>3</th>\n",
       "      <td>0</td>\n",
       "      <td>R$ 580.000</td>\n",
       "      <td>Imóvel NGVFTG</td>\n",
       "      <td>Apartamento em São Paulo</td>\n",
       "      <td>Rua Adelino de Almeida Castilho</td>\n",
       "      <td>Apartamento à venda em Tatuapé com 68 m², 2 qu...</td>\n",
       "      <td>1 vaga</td>\n",
       "      <td>2 Banheiros</td>\n",
       "      <td>Posição da unidade</td>\n",
       "      <td>R$ 400/mês</td>\n",
       "      <td>Isento</td>\n",
       "    </tr>\n",
       "    <tr>\n",
       "      <th>4</th>\n",
       "      <td>0</td>\n",
       "      <td>R$ 795.000</td>\n",
       "      <td>Imóvel WBLJ5Z</td>\n",
       "      <td>Apartamento em São Paulo</td>\n",
       "      <td>Rua Araçoiaba</td>\n",
       "      <td>Apartamento à venda em Saúde com 64 m², 2 quar...</td>\n",
       "      <td>1 vaga</td>\n",
       "      <td>2 Banheiros</td>\n",
       "      <td>Indisponivel</td>\n",
       "      <td>R$ 791/mês</td>\n",
       "      <td>R$ 3.200/ano</td>\n",
       "    </tr>\n",
       "    <tr>\n",
       "      <th>...</th>\n",
       "      <td>...</td>\n",
       "      <td>...</td>\n",
       "      <td>...</td>\n",
       "      <td>...</td>\n",
       "      <td>...</td>\n",
       "      <td>...</td>\n",
       "      <td>...</td>\n",
       "      <td>...</td>\n",
       "      <td>...</td>\n",
       "      <td>...</td>\n",
       "      <td>...</td>\n",
       "    </tr>\n",
       "    <tr>\n",
       "      <th>4970</th>\n",
       "      <td>0</td>\n",
       "      <td>R$ 217.000</td>\n",
       "      <td>Imóvel LSESEF</td>\n",
       "      <td>Apartamento em Belo Horizonte</td>\n",
       "      <td>Rua das Chácaras</td>\n",
       "      <td>Apartamento à venda em Maria Helena com 47 m²,...</td>\n",
       "      <td>2 quartos\\nsem suíte</td>\n",
       "      <td>1 vaga</td>\n",
       "      <td>NaN</td>\n",
       "      <td>R$ 288/mês</td>\n",
       "      <td>R$ 45/mês</td>\n",
       "    </tr>\n",
       "    <tr>\n",
       "      <th>4971</th>\n",
       "      <td>0</td>\n",
       "      <td>R$ 240.000</td>\n",
       "      <td>Imóvel COA60K</td>\n",
       "      <td>Apartamento em Belo Horizonte</td>\n",
       "      <td>Rua W Quatro</td>\n",
       "      <td>Apartamento à venda em Pongelupe com 68 m², 3 ...</td>\n",
       "      <td>3 quartos\\nsem suíte</td>\n",
       "      <td>1 vaga</td>\n",
       "      <td>NaN</td>\n",
       "      <td>R$ 95/mês</td>\n",
       "      <td>Isento</td>\n",
       "    </tr>\n",
       "    <tr>\n",
       "      <th>4972</th>\n",
       "      <td>0</td>\n",
       "      <td>R$ 220.000</td>\n",
       "      <td>Imóvel 1UB7Y4V</td>\n",
       "      <td>Apartamento em Belo Horizonte</td>\n",
       "      <td>Rua Cachoeira da Prata</td>\n",
       "      <td>Apartamento à venda em Pindorama com 44 m², 2 ...</td>\n",
       "      <td>2 quartos\\nsem suíte</td>\n",
       "      <td>1 vaga</td>\n",
       "      <td>NaN</td>\n",
       "      <td>R$ 350/mês</td>\n",
       "      <td>R$ 99/ano</td>\n",
       "    </tr>\n",
       "    <tr>\n",
       "      <th>4973</th>\n",
       "      <td>0</td>\n",
       "      <td>R$ 150.000</td>\n",
       "      <td>Imóvel 1S1LTP8</td>\n",
       "      <td>Apartamento em Belo Horizonte</td>\n",
       "      <td>Rua Monte Real</td>\n",
       "      <td>Apartamento à venda em Granja de Freitas com 4...</td>\n",
       "      <td>2 quartos\\nsem suíte</td>\n",
       "      <td>1 vaga</td>\n",
       "      <td>NaN</td>\n",
       "      <td>R$ 50/mês</td>\n",
       "      <td>Isento</td>\n",
       "    </tr>\n",
       "    <tr>\n",
       "      <th>4974</th>\n",
       "      <td>0</td>\n",
       "      <td>R$ 190.000</td>\n",
       "      <td>Imóvel NUQJA6</td>\n",
       "      <td>Apartamento em Belo Horizonte</td>\n",
       "      <td>Avenida Leontino Francisco Alves</td>\n",
       "      <td>Apartamento à venda em Serra Verde com 56 m², ...</td>\n",
       "      <td>2 quartos\\nsem suíte</td>\n",
       "      <td>1 vaga</td>\n",
       "      <td>NaN</td>\n",
       "      <td>R$ 100/mês</td>\n",
       "      <td>R$ 1/mês</td>\n",
       "    </tr>\n",
       "  </tbody>\n",
       "</table>\n",
       "<p>19892 rows × 11 columns</p>\n",
       "</div>"
      ],
      "text/plain": [
       "      Unnamed: 0    preco_imov         id_imov                         cidade  \\\n",
       "0              0  R$ 1.484.000  Imóvel 1RUQ6KB       Apartamento em São Paulo   \n",
       "1              0  R$ 1.200.000  Imóvel 1NDUYA8       Apartamento em São Paulo   \n",
       "2              0  R$ 1.160.000  Imóvel 1UT6HT2       Apartamento em São Paulo   \n",
       "3              0    R$ 580.000   Imóvel NGVFTG       Apartamento em São Paulo   \n",
       "4              0    R$ 795.000   Imóvel WBLJ5Z       Apartamento em São Paulo   \n",
       "...          ...           ...             ...                            ...   \n",
       "4970           0    R$ 217.000   Imóvel LSESEF  Apartamento em Belo Horizonte   \n",
       "4971           0    R$ 240.000   Imóvel COA60K  Apartamento em Belo Horizonte   \n",
       "4972           0    R$ 220.000  Imóvel 1UB7Y4V  Apartamento em Belo Horizonte   \n",
       "4973           0    R$ 150.000  Imóvel 1S1LTP8  Apartamento em Belo Horizonte   \n",
       "4974           0    R$ 190.000   Imóvel NUQJA6  Apartamento em Belo Horizonte   \n",
       "\n",
       "                              endereco  \\\n",
       "0                    Rua dos Pinheiros   \n",
       "1                         Rua Camburiú   \n",
       "2                       Rua Cunha Gago   \n",
       "3      Rua Adelino de Almeida Castilho   \n",
       "4                        Rua Araçoiaba   \n",
       "...                                ...   \n",
       "4970                  Rua das Chácaras   \n",
       "4971                      Rua W Quatro   \n",
       "4972            Rua Cachoeira da Prata   \n",
       "4973                    Rua Monte Real   \n",
       "4974  Avenida Leontino Francisco Alves   \n",
       "\n",
       "                                            titulo_imov                  vaga  \\\n",
       "0     Apartamento à venda em Pinheiros com 68 m², 2 ...                1 vaga   \n",
       "1     Apartamento à venda em Alto da Lapa com 115 m²...               2 vagas   \n",
       "2     Apartamento à venda em Pinheiros com 60 m², 2 ...                1 vaga   \n",
       "3     Apartamento à venda em Tatuapé com 68 m², 2 qu...                1 vaga   \n",
       "4     Apartamento à venda em Saúde com 64 m², 2 quar...                1 vaga   \n",
       "...                                                 ...                   ...   \n",
       "4970  Apartamento à venda em Maria Helena com 47 m²,...  2 quartos\\nsem suíte   \n",
       "4971  Apartamento à venda em Pongelupe com 68 m², 3 ...  3 quartos\\nsem suíte   \n",
       "4972  Apartamento à venda em Pindorama com 44 m², 2 ...  2 quartos\\nsem suíte   \n",
       "4973  Apartamento à venda em Granja de Freitas com 4...  2 quartos\\nsem suíte   \n",
       "4974  Apartamento à venda em Serra Verde com 56 m², ...  2 quartos\\nsem suíte   \n",
       "\n",
       "         banheiro           etc_apart    condominio          iptu  \n",
       "0     2 Banheiros              Lavabo    R$ 530/mês  R$ 1.830/ano  \n",
       "1     2 Banheiros  Posição da unidade  R$ 1.195/mês    R$ 391/mês  \n",
       "2     2 Banheiros        Indisponivel    R$ 984/mês    R$ 276/mês  \n",
       "3     2 Banheiros  Posição da unidade    R$ 400/mês        Isento  \n",
       "4     2 Banheiros        Indisponivel    R$ 791/mês  R$ 3.200/ano  \n",
       "...           ...                 ...           ...           ...  \n",
       "4970       1 vaga                 NaN    R$ 288/mês     R$ 45/mês  \n",
       "4971       1 vaga                 NaN     R$ 95/mês        Isento  \n",
       "4972       1 vaga                 NaN    R$ 350/mês     R$ 99/ano  \n",
       "4973       1 vaga                 NaN     R$ 50/mês        Isento  \n",
       "4974       1 vaga                 NaN    R$ 100/mês      R$ 1/mês  \n",
       "\n",
       "[19892 rows x 11 columns]"
      ]
     },
     "execution_count": 4,
     "metadata": {},
     "output_type": "execute_result"
    }
   ],
   "source": [
    "df_total"
   ]
  },
  {
   "cell_type": "code",
   "execution_count": 5,
   "id": "aa54e695",
   "metadata": {
    "ExecuteTime": {
     "end_time": "2022-09-20T19:10:48.718391Z",
     "start_time": "2022-09-20T19:10:48.702376Z"
    }
   },
   "outputs": [],
   "source": [
    "df_total.drop(columns='Unnamed: 0', inplace=True)"
   ]
  },
  {
   "cell_type": "code",
   "execution_count": 6,
   "id": "fc6e1fa5",
   "metadata": {
    "ExecuteTime": {
     "end_time": "2022-09-20T19:10:51.279254Z",
     "start_time": "2022-09-20T19:10:51.246413Z"
    }
   },
   "outputs": [],
   "source": [
    "df_total.drop_duplicates(inplace=True)"
   ]
  },
  {
   "cell_type": "code",
   "execution_count": 53,
   "id": "9c2be2a8",
   "metadata": {
    "ExecuteTime": {
     "end_time": "2022-09-21T00:10:14.794943Z",
     "start_time": "2022-09-21T00:10:14.771941Z"
    }
   },
   "outputs": [
    {
     "data": {
      "text/html": [
       "<div>\n",
       "<style scoped>\n",
       "    .dataframe tbody tr th:only-of-type {\n",
       "        vertical-align: middle;\n",
       "    }\n",
       "\n",
       "    .dataframe tbody tr th {\n",
       "        vertical-align: top;\n",
       "    }\n",
       "\n",
       "    .dataframe thead th {\n",
       "        text-align: right;\n",
       "    }\n",
       "</style>\n",
       "<table border=\"1\" class=\"dataframe\">\n",
       "  <thead>\n",
       "    <tr style=\"text-align: right;\">\n",
       "      <th></th>\n",
       "      <th>preco_imov</th>\n",
       "      <th>id_imov</th>\n",
       "      <th>cidade</th>\n",
       "      <th>endereco</th>\n",
       "      <th>titulo_imov</th>\n",
       "      <th>vaga</th>\n",
       "      <th>banheiro</th>\n",
       "      <th>condominio</th>\n",
       "      <th>iptu</th>\n",
       "      <th>metros</th>\n",
       "      <th>bairro</th>\n",
       "    </tr>\n",
       "  </thead>\n",
       "  <tbody>\n",
       "    <tr>\n",
       "      <th>0</th>\n",
       "      <td>R$ 1.484.000</td>\n",
       "      <td>1RUQ6KB</td>\n",
       "      <td>São Paulo</td>\n",
       "      <td>Rua dos Pinheiros</td>\n",
       "      <td>Apartamento à venda em Pinheiros com 68 m², 2 ...</td>\n",
       "      <td>1 vaga</td>\n",
       "      <td>2 Banheiros</td>\n",
       "      <td>R$ 530/mês</td>\n",
       "      <td>R$ 1.830/ano</td>\n",
       "      <td>[68 m²]</td>\n",
       "      <td>Pinheiros</td>\n",
       "    </tr>\n",
       "    <tr>\n",
       "      <th>1</th>\n",
       "      <td>R$ 1.200.000</td>\n",
       "      <td>1NDUYA8</td>\n",
       "      <td>São Paulo</td>\n",
       "      <td>Rua Camburiú</td>\n",
       "      <td>Apartamento à venda em Alto da Lapa com 115 m²...</td>\n",
       "      <td>2 vagas</td>\n",
       "      <td>2 Banheiros</td>\n",
       "      <td>R$ 1.195/mês</td>\n",
       "      <td>R$ 391/mês</td>\n",
       "      <td>[115 m²]</td>\n",
       "      <td>Alto da Lapa         s</td>\n",
       "    </tr>\n",
       "    <tr>\n",
       "      <th>2</th>\n",
       "      <td>R$ 1.160.000</td>\n",
       "      <td>1UT6HT2</td>\n",
       "      <td>São Paulo</td>\n",
       "      <td>Rua Cunha Gago</td>\n",
       "      <td>Apartamento à venda em Pinheiros com 60 m², 2 ...</td>\n",
       "      <td>1 vaga</td>\n",
       "      <td>2 Banheiros</td>\n",
       "      <td>R$ 984/mês</td>\n",
       "      <td>R$ 276/mês</td>\n",
       "      <td>[60 m²]</td>\n",
       "      <td>Pinheiros</td>\n",
       "    </tr>\n",
       "    <tr>\n",
       "      <th>3</th>\n",
       "      <td>R$ 580.000</td>\n",
       "      <td>NGVFTG</td>\n",
       "      <td>São Paulo</td>\n",
       "      <td>Rua Adelino de Almeida Castilho</td>\n",
       "      <td>Apartamento à venda em Tatuapé com 68 m², 2 qu...</td>\n",
       "      <td>1 vaga</td>\n",
       "      <td>2 Banheiros</td>\n",
       "      <td>R$ 400/mês</td>\n",
       "      <td>Isento</td>\n",
       "      <td>[68 m²]</td>\n",
       "      <td>Tatuapé</td>\n",
       "    </tr>\n",
       "    <tr>\n",
       "      <th>4</th>\n",
       "      <td>R$ 795.000</td>\n",
       "      <td>WBLJ5Z</td>\n",
       "      <td>São Paulo</td>\n",
       "      <td>Rua Araçoiaba</td>\n",
       "      <td>Apartamento à venda em Saúde com 64 m², 2 quar...</td>\n",
       "      <td>1 vaga</td>\n",
       "      <td>2 Banheiros</td>\n",
       "      <td>R$ 791/mês</td>\n",
       "      <td>R$ 3.200/ano</td>\n",
       "      <td>[64 m²]</td>\n",
       "      <td>Saúde</td>\n",
       "    </tr>\n",
       "    <tr>\n",
       "      <th>...</th>\n",
       "      <td>...</td>\n",
       "      <td>...</td>\n",
       "      <td>...</td>\n",
       "      <td>...</td>\n",
       "      <td>...</td>\n",
       "      <td>...</td>\n",
       "      <td>...</td>\n",
       "      <td>...</td>\n",
       "      <td>...</td>\n",
       "      <td>...</td>\n",
       "      <td>...</td>\n",
       "    </tr>\n",
       "    <tr>\n",
       "      <th>4969</th>\n",
       "      <td>R$ 318.651</td>\n",
       "      <td>WWQJ51</td>\n",
       "      <td>Belo Horizonte</td>\n",
       "      <td>Rua Outeiro</td>\n",
       "      <td>Apartamento à venda em Jatobá com 112 m², 2 qu...</td>\n",
       "      <td>2 quartos\\nsem suíte</td>\n",
       "      <td>1 vaga</td>\n",
       "      <td>R$ 200/mês</td>\n",
       "      <td>R$ 150/mês</td>\n",
       "      <td>[112 m²]</td>\n",
       "      <td>Jatobá</td>\n",
       "    </tr>\n",
       "    <tr>\n",
       "      <th>4970</th>\n",
       "      <td>R$ 217.000</td>\n",
       "      <td>LSESEF</td>\n",
       "      <td>Belo Horizonte</td>\n",
       "      <td>Rua das Chácaras</td>\n",
       "      <td>Apartamento à venda em Maria Helena com 47 m²,...</td>\n",
       "      <td>2 quartos\\nsem suíte</td>\n",
       "      <td>1 vaga</td>\n",
       "      <td>R$ 288/mês</td>\n",
       "      <td>R$ 45/mês</td>\n",
       "      <td>[47 m²]</td>\n",
       "      <td>Maria Helena</td>\n",
       "    </tr>\n",
       "    <tr>\n",
       "      <th>4972</th>\n",
       "      <td>R$ 220.000</td>\n",
       "      <td>1UB7Y4V</td>\n",
       "      <td>Belo Horizonte</td>\n",
       "      <td>Rua Cachoeira da Prata</td>\n",
       "      <td>Apartamento à venda em Pindorama com 44 m², 2 ...</td>\n",
       "      <td>2 quartos\\nsem suíte</td>\n",
       "      <td>1 vaga</td>\n",
       "      <td>R$ 350/mês</td>\n",
       "      <td>R$ 99/ano</td>\n",
       "      <td>[44 m²]</td>\n",
       "      <td>Pindorama</td>\n",
       "    </tr>\n",
       "    <tr>\n",
       "      <th>4973</th>\n",
       "      <td>R$ 150.000</td>\n",
       "      <td>1S1LTP8</td>\n",
       "      <td>Belo Horizonte</td>\n",
       "      <td>Rua Monte Real</td>\n",
       "      <td>Apartamento à venda em Granja de Freitas com 4...</td>\n",
       "      <td>2 quartos\\nsem suíte</td>\n",
       "      <td>1 vaga</td>\n",
       "      <td>R$ 50/mês</td>\n",
       "      <td>Isento</td>\n",
       "      <td>[47 m²]</td>\n",
       "      <td>Granja de Freitas</td>\n",
       "    </tr>\n",
       "    <tr>\n",
       "      <th>4974</th>\n",
       "      <td>R$ 190.000</td>\n",
       "      <td>NUQJA6</td>\n",
       "      <td>Belo Horizonte</td>\n",
       "      <td>Avenida Leontino Francisco Alves</td>\n",
       "      <td>Apartamento à venda em Serra Verde com 56 m², ...</td>\n",
       "      <td>2 quartos\\nsem suíte</td>\n",
       "      <td>1 vaga</td>\n",
       "      <td>R$ 100/mês</td>\n",
       "      <td>R$ 1/mês</td>\n",
       "      <td>[56 m²]</td>\n",
       "      <td>Serra Verde</td>\n",
       "    </tr>\n",
       "  </tbody>\n",
       "</table>\n",
       "<p>17944 rows × 11 columns</p>\n",
       "</div>"
      ],
      "text/plain": [
       "        preco_imov   id_imov          cidade  \\\n",
       "0     R$ 1.484.000   1RUQ6KB       São Paulo   \n",
       "1     R$ 1.200.000   1NDUYA8       São Paulo   \n",
       "2     R$ 1.160.000   1UT6HT2       São Paulo   \n",
       "3       R$ 580.000    NGVFTG       São Paulo   \n",
       "4       R$ 795.000    WBLJ5Z       São Paulo   \n",
       "...            ...       ...             ...   \n",
       "4969    R$ 318.651    WWQJ51  Belo Horizonte   \n",
       "4970    R$ 217.000    LSESEF  Belo Horizonte   \n",
       "4972    R$ 220.000   1UB7Y4V  Belo Horizonte   \n",
       "4973    R$ 150.000   1S1LTP8  Belo Horizonte   \n",
       "4974    R$ 190.000    NUQJA6  Belo Horizonte   \n",
       "\n",
       "                              endereco  \\\n",
       "0                    Rua dos Pinheiros   \n",
       "1                         Rua Camburiú   \n",
       "2                       Rua Cunha Gago   \n",
       "3      Rua Adelino de Almeida Castilho   \n",
       "4                        Rua Araçoiaba   \n",
       "...                                ...   \n",
       "4969                       Rua Outeiro   \n",
       "4970                  Rua das Chácaras   \n",
       "4972            Rua Cachoeira da Prata   \n",
       "4973                    Rua Monte Real   \n",
       "4974  Avenida Leontino Francisco Alves   \n",
       "\n",
       "                                            titulo_imov                  vaga  \\\n",
       "0     Apartamento à venda em Pinheiros com 68 m², 2 ...                1 vaga   \n",
       "1     Apartamento à venda em Alto da Lapa com 115 m²...               2 vagas   \n",
       "2     Apartamento à venda em Pinheiros com 60 m², 2 ...                1 vaga   \n",
       "3     Apartamento à venda em Tatuapé com 68 m², 2 qu...                1 vaga   \n",
       "4     Apartamento à venda em Saúde com 64 m², 2 quar...                1 vaga   \n",
       "...                                                 ...                   ...   \n",
       "4969  Apartamento à venda em Jatobá com 112 m², 2 qu...  2 quartos\\nsem suíte   \n",
       "4970  Apartamento à venda em Maria Helena com 47 m²,...  2 quartos\\nsem suíte   \n",
       "4972  Apartamento à venda em Pindorama com 44 m², 2 ...  2 quartos\\nsem suíte   \n",
       "4973  Apartamento à venda em Granja de Freitas com 4...  2 quartos\\nsem suíte   \n",
       "4974  Apartamento à venda em Serra Verde com 56 m², ...  2 quartos\\nsem suíte   \n",
       "\n",
       "         banheiro    condominio          iptu    metros  \\\n",
       "0     2 Banheiros    R$ 530/mês  R$ 1.830/ano   [68 m²]   \n",
       "1     2 Banheiros  R$ 1.195/mês    R$ 391/mês  [115 m²]   \n",
       "2     2 Banheiros    R$ 984/mês    R$ 276/mês   [60 m²]   \n",
       "3     2 Banheiros    R$ 400/mês        Isento   [68 m²]   \n",
       "4     2 Banheiros    R$ 791/mês  R$ 3.200/ano   [64 m²]   \n",
       "...           ...           ...           ...       ...   \n",
       "4969       1 vaga    R$ 200/mês    R$ 150/mês  [112 m²]   \n",
       "4970       1 vaga    R$ 288/mês     R$ 45/mês   [47 m²]   \n",
       "4972       1 vaga    R$ 350/mês     R$ 99/ano   [44 m²]   \n",
       "4973       1 vaga     R$ 50/mês        Isento   [47 m²]   \n",
       "4974       1 vaga    R$ 100/mês      R$ 1/mês   [56 m²]   \n",
       "\n",
       "                           bairro  \n",
       "0                Pinheiros         \n",
       "1          Alto da Lapa         s  \n",
       "2              Pinheiros           \n",
       "3                Tatuapé           \n",
       "4                  Saúde           \n",
       "...                           ...  \n",
       "4969                Jatobá         \n",
       "4970          Maria Helena         \n",
       "4972             Pindorama         \n",
       "4973     Granja de Freitas         \n",
       "4974           Serra Verde         \n",
       "\n",
       "[17944 rows x 11 columns]"
      ]
     },
     "execution_count": 53,
     "metadata": {},
     "output_type": "execute_result"
    }
   ],
   "source": [
    "df_total"
   ]
  },
  {
   "cell_type": "code",
   "execution_count": 62,
   "id": "93ca9e39",
   "metadata": {
    "ExecuteTime": {
     "end_time": "2022-09-20T00:48:34.791696Z",
     "start_time": "2022-09-20T00:48:34.690552Z"
    }
   },
   "outputs": [],
   "source": [
    "df_total.to_csv('df_total.csv', encoding='latin1')"
   ]
  },
  {
   "cell_type": "code",
   "execution_count": 18,
   "id": "257f6a13",
   "metadata": {
    "ExecuteTime": {
     "end_time": "2022-09-20T23:37:42.556536Z",
     "start_time": "2022-09-20T23:37:42.546535Z"
    }
   },
   "outputs": [
    {
     "data": {
      "text/plain": [
       "Apartamento em São Paulo              4961\n",
       "Apartamento em Porto Alegre           4264\n",
       "Apartamento em Rio de Janeiro         4147\n",
       "Apartamento em Belo Horizonte         4014\n",
       "Casa em Porto Alegre                   360\n",
       "Casa de Condomínio em Porto Alegre     130\n",
       "Casa em Rio de Janeiro                  65\n",
       "Indisponivel                             3\n",
       "Name: cidade, dtype: int64"
      ]
     },
     "execution_count": 18,
     "metadata": {},
     "output_type": "execute_result"
    }
   ],
   "source": [
    "df_total['cidade'].value_counts()"
   ]
  },
  {
   "cell_type": "code",
   "execution_count": 24,
   "id": "eb376d3b",
   "metadata": {
    "ExecuteTime": {
     "end_time": "2022-09-20T23:49:58.925027Z",
     "start_time": "2022-09-20T23:49:58.915016Z"
    }
   },
   "outputs": [
    {
     "data": {
      "text/plain": [
       "São Paulo         4961\n",
       "Porto Alegre      4754\n",
       "Rio de Janeiro    4212\n",
       "Belo Horizonte    4014\n",
       "Indisponivel         3\n",
       "Name: cidade, dtype: int64"
      ]
     },
     "execution_count": 24,
     "metadata": {},
     "output_type": "execute_result"
    }
   ],
   "source": [
    "df_total['cidade'].value_counts()"
   ]
  },
  {
   "cell_type": "code",
   "execution_count": null,
   "id": "4bd4d659",
   "metadata": {},
   "outputs": [],
   "source": []
  },
  {
   "cell_type": "code",
   "execution_count": 10,
   "id": "bbe76a2b",
   "metadata": {
    "ExecuteTime": {
     "end_time": "2022-09-20T19:18:19.306897Z",
     "start_time": "2022-09-20T19:18:19.286895Z"
    }
   },
   "outputs": [],
   "source": [
    "df_total.drop(columns='etc_apart', inplace=True)"
   ]
  },
  {
   "cell_type": "code",
   "execution_count": 8,
   "id": "40729b57",
   "metadata": {
    "ExecuteTime": {
     "end_time": "2022-09-20T19:11:35.525630Z",
     "start_time": "2022-09-20T19:11:35.501630Z"
    }
   },
   "outputs": [],
   "source": [
    "df_total ['id_imov'] = df_total ['id_imov'].str.replace('Imóvel','', regex = True)"
   ]
  },
  {
   "cell_type": "code",
   "execution_count": 14,
   "id": "7f5d6729",
   "metadata": {
    "ExecuteTime": {
     "end_time": "2022-09-20T19:19:49.665884Z",
     "start_time": "2022-09-20T19:19:49.582028Z"
    }
   },
   "outputs": [],
   "source": [
    "df_total ['metros'] = df_total ['titulo_imov'].str.findall('\\d+ m²')"
   ]
  },
  {
   "cell_type": "code",
   "execution_count": 20,
   "id": "35df8b58",
   "metadata": {
    "ExecuteTime": {
     "end_time": "2022-09-20T23:45:13.545769Z",
     "start_time": "2022-09-20T23:45:13.522770Z"
    }
   },
   "outputs": [],
   "source": [
    "df_total ['cidade'] = df_total ['cidade'].str.replace('Apartamento em ', '', regex = True)"
   ]
  },
  {
   "cell_type": "code",
   "execution_count": 21,
   "id": "b04374d6",
   "metadata": {
    "ExecuteTime": {
     "end_time": "2022-09-20T23:45:25.350445Z",
     "start_time": "2022-09-20T23:45:25.330438Z"
    }
   },
   "outputs": [],
   "source": [
    "df_total ['cidade'] = df_total ['cidade'].str.replace('Casa em ', '', regex = True)"
   ]
  },
  {
   "cell_type": "code",
   "execution_count": 22,
   "id": "00a2c40f",
   "metadata": {
    "ExecuteTime": {
     "end_time": "2022-09-20T23:45:26.683187Z",
     "start_time": "2022-09-20T23:45:26.658181Z"
    }
   },
   "outputs": [],
   "source": [
    "df_total ['cidade'] = df_total ['cidade'].str.replace('Casa de Condomínio em ', '', regex = True)"
   ]
  },
  {
   "cell_type": "code",
   "execution_count": 25,
   "id": "40ea729b",
   "metadata": {
    "ExecuteTime": {
     "end_time": "2022-09-20T23:53:50.870330Z",
     "start_time": "2022-09-20T23:53:50.818841Z"
    }
   },
   "outputs": [],
   "source": [
    "df_total ['teste'] = df_total ['titulo_imov'].str.replace('\\d+', '', regex = True)"
   ]
  },
  {
   "cell_type": "code",
   "execution_count": 26,
   "id": "aef1ff0c",
   "metadata": {
    "ExecuteTime": {
     "end_time": "2022-09-20T23:53:55.185169Z",
     "start_time": "2022-09-20T23:53:55.138937Z"
    }
   },
   "outputs": [],
   "source": [
    "df_total ['teste'] = df_total ['teste'].str.replace('(Apartamento)+', '', regex = True)"
   ]
  },
  {
   "cell_type": "code",
   "execution_count": 28,
   "id": "7a665b3f",
   "metadata": {
    "ExecuteTime": {
     "end_time": "2022-09-20T23:54:30.167172Z",
     "start_time": "2022-09-20T23:54:30.123192Z"
    }
   },
   "outputs": [],
   "source": [
    "df_total ['teste'] = df_total ['teste'].str.replace('(Casa)+', '', regex = True)"
   ]
  },
  {
   "cell_type": "code",
   "execution_count": 29,
   "id": "456bb2db",
   "metadata": {
    "ExecuteTime": {
     "end_time": "2022-09-20T23:54:48.545409Z",
     "start_time": "2022-09-20T23:54:48.507400Z"
    }
   },
   "outputs": [],
   "source": [
    "df_total ['teste'] = df_total ['teste'].str.replace('(Casa de Condomínio)+', '', regex = True)"
   ]
  },
  {
   "cell_type": "code",
   "execution_count": 31,
   "id": "aba316c0",
   "metadata": {
    "ExecuteTime": {
     "end_time": "2022-09-20T23:58:00.947268Z",
     "start_time": "2022-09-20T23:58:00.906265Z"
    }
   },
   "outputs": [],
   "source": [
    "df_total ['teste'] = df_total ['teste'].str.replace('(venda em)+', '', regex = True)"
   ]
  },
  {
   "cell_type": "code",
   "execution_count": 32,
   "id": "1f076e0e",
   "metadata": {
    "ExecuteTime": {
     "end_time": "2022-09-20T23:58:05.646427Z",
     "start_time": "2022-09-20T23:58:05.610417Z"
    }
   },
   "outputs": [],
   "source": [
    "df_total ['teste'] = df_total ['teste'].str.replace('(com)+', '', regex = True)"
   ]
  },
  {
   "cell_type": "code",
   "execution_count": 33,
   "id": "79216116",
   "metadata": {
    "ExecuteTime": {
     "end_time": "2022-09-20T23:58:43.564115Z",
     "start_time": "2022-09-20T23:58:43.523126Z"
    }
   },
   "outputs": [],
   "source": [
    "df_total ['teste'] = df_total ['teste'].str.replace('(à)+', '', regex = True)"
   ]
  },
  {
   "cell_type": "code",
   "execution_count": 35,
   "id": "16eeb22f",
   "metadata": {
    "ExecuteTime": {
     "end_time": "2022-09-21T00:02:22.953637Z",
     "start_time": "2022-09-21T00:02:22.930631Z"
    }
   },
   "outputs": [],
   "source": [
    "df_total ['teste'] = df_total ['teste'].str.replace('m²,', '', regex = True)"
   ]
  },
  {
   "cell_type": "code",
   "execution_count": 36,
   "id": "bc86b7a0",
   "metadata": {
    "ExecuteTime": {
     "end_time": "2022-09-21T00:02:24.898099Z",
     "start_time": "2022-09-21T00:02:24.875093Z"
    }
   },
   "outputs": [],
   "source": [
    "df_total ['teste'] = df_total ['teste'].str.replace('quarto,', '', regex = True)"
   ]
  },
  {
   "cell_type": "code",
   "execution_count": 38,
   "id": "6d54c65f",
   "metadata": {
    "ExecuteTime": {
     "end_time": "2022-09-21T00:04:06.089895Z",
     "start_time": "2022-09-21T00:04:06.058896Z"
    }
   },
   "outputs": [],
   "source": [
    "df_total ['teste'] = df_total ['teste'].str.replace('quartos,', '', regex = True)"
   ]
  },
  {
   "cell_type": "code",
   "execution_count": 40,
   "id": "a4570d22",
   "metadata": {
    "ExecuteTime": {
     "end_time": "2022-09-21T00:05:24.015151Z",
     "start_time": "2022-09-21T00:05:23.995143Z"
    }
   },
   "outputs": [],
   "source": [
    "df_total ['teste'] = df_total ['teste'].str.replace('suítes,', '', regex = True)"
   ]
  },
  {
   "cell_type": "code",
   "execution_count": 44,
   "id": "0ea614d8",
   "metadata": {
    "ExecuteTime": {
     "end_time": "2022-09-21T00:08:04.921053Z",
     "start_time": "2022-09-21T00:08:04.892053Z"
    }
   },
   "outputs": [],
   "source": [
    "df_total ['teste'] = df_total ['teste'].str.replace('suíte,', '', regex = True)"
   ]
  },
  {
   "cell_type": "code",
   "execution_count": 46,
   "id": "f2a01a04",
   "metadata": {
    "ExecuteTime": {
     "end_time": "2022-09-21T00:08:19.057574Z",
     "start_time": "2022-09-21T00:08:19.027571Z"
    }
   },
   "outputs": [],
   "source": [
    "df_total ['teste'] = df_total ['teste'].str.replace('vaga', '', regex = True)"
   ]
  },
  {
   "cell_type": "code",
   "execution_count": 47,
   "id": "06ec9b72",
   "metadata": {
    "ExecuteTime": {
     "end_time": "2022-09-21T00:08:32.054159Z",
     "start_time": "2022-09-21T00:08:32.036158Z"
    }
   },
   "outputs": [],
   "source": [
    "df_total ['teste'] = df_total ['teste'].str.replace('vagas', '', regex = True)"
   ]
  },
  {
   "cell_type": "code",
   "execution_count": 50,
   "id": "6418a3da",
   "metadata": {
    "ExecuteTime": {
     "end_time": "2022-09-21T00:09:36.829775Z",
     "start_time": "2022-09-21T00:09:36.811784Z"
    }
   },
   "outputs": [],
   "source": [
    "df_total ['bairro'] = df_total ['teste']"
   ]
  },
  {
   "cell_type": "code",
   "execution_count": 52,
   "id": "b15ae987",
   "metadata": {
    "ExecuteTime": {
     "end_time": "2022-09-21T00:10:09.080944Z",
     "start_time": "2022-09-21T00:10:09.059939Z"
    }
   },
   "outputs": [],
   "source": [
    "df_total.drop(columns='teste', inplace=True)"
   ]
  },
  {
   "cell_type": "code",
   "execution_count": 2,
   "id": "c65365c5",
   "metadata": {
    "ExecuteTime": {
     "end_time": "2022-09-21T23:59:06.315167Z",
     "start_time": "2022-09-21T23:59:03.706452Z"
    }
   },
   "outputs": [],
   "source": [
    "df_total = pd.read_excel('df_total.xlsx')"
   ]
  },
  {
   "cell_type": "code",
   "execution_count": 5,
   "id": "943637fc",
   "metadata": {
    "ExecuteTime": {
     "end_time": "2022-09-22T00:02:39.444001Z",
     "start_time": "2022-09-22T00:02:39.434003Z"
    }
   },
   "outputs": [],
   "source": [
    "df_total ['quartos'] = df_total ['titulo_imov']"
   ]
  },
  {
   "cell_type": "code",
   "execution_count": 8,
   "id": "37cf3d73",
   "metadata": {
    "ExecuteTime": {
     "end_time": "2022-09-22T00:05:02.137853Z",
     "start_time": "2022-09-22T00:05:02.098628Z"
    }
   },
   "outputs": [],
   "source": [
    "df_total ['quartos'] = df_total ['quartos'].str.replace('(Apartamento)+', '', regex = True)"
   ]
  },
  {
   "cell_type": "code",
   "execution_count": 10,
   "id": "5cdfad2b",
   "metadata": {
    "ExecuteTime": {
     "end_time": "2022-09-22T00:05:58.015585Z",
     "start_time": "2022-09-22T00:05:57.978585Z"
    }
   },
   "outputs": [],
   "source": [
    "df_total ['quartos'] = df_total ['quartos'].str.replace('(Casa)+', '', regex = True)"
   ]
  },
  {
   "cell_type": "code",
   "execution_count": 11,
   "id": "56df6c5c",
   "metadata": {
    "ExecuteTime": {
     "end_time": "2022-09-22T00:06:14.569672Z",
     "start_time": "2022-09-22T00:06:14.537682Z"
    }
   },
   "outputs": [],
   "source": [
    "df_total ['quartos'] = df_total ['quartos'].str.replace('(Casa de Condomínio)+', '', regex = True)"
   ]
  },
  {
   "cell_type": "code",
   "execution_count": 15,
   "id": "71184cde",
   "metadata": {
    "ExecuteTime": {
     "end_time": "2022-09-22T00:07:43.170988Z",
     "start_time": "2022-09-22T00:07:43.129973Z"
    }
   },
   "outputs": [],
   "source": [
    "df_total ['quartos'] = df_total ['quartos'].str.replace('(de Condomínio)+', '', regex = True)"
   ]
  },
  {
   "cell_type": "code",
   "execution_count": 12,
   "id": "78b7bdae",
   "metadata": {
    "ExecuteTime": {
     "end_time": "2022-09-22T00:06:26.474120Z",
     "start_time": "2022-09-22T00:06:26.426914Z"
    }
   },
   "outputs": [],
   "source": [
    "df_total ['quartos'] = df_total ['quartos'].str.replace('(venda em)+', '', regex = True)"
   ]
  },
  {
   "cell_type": "code",
   "execution_count": 13,
   "id": "a4746e73",
   "metadata": {
    "ExecuteTime": {
     "end_time": "2022-09-22T00:06:39.406914Z",
     "start_time": "2022-09-22T00:06:39.369919Z"
    }
   },
   "outputs": [],
   "source": [
    "df_total ['quartos'] = df_total ['quartos'].str.replace('(com)+', '', regex = True)"
   ]
  },
  {
   "cell_type": "code",
   "execution_count": 17,
   "id": "edd0e0ec",
   "metadata": {
    "ExecuteTime": {
     "end_time": "2022-09-22T00:10:03.533077Z",
     "start_time": "2022-09-22T00:10:03.498076Z"
    }
   },
   "outputs": [],
   "source": [
    "df_total ['quartos'] = df_total ['quartos'].str.replace('(à)+', '', regex = True)"
   ]
  },
  {
   "cell_type": "code",
   "execution_count": 19,
   "id": "008dc962",
   "metadata": {
    "ExecuteTime": {
     "end_time": "2022-09-22T01:01:41.164458Z",
     "start_time": "2022-09-22T01:01:41.133447Z"
    }
   },
   "outputs": [],
   "source": [
    "df_total ['teste'] = df_total ['quartos'].str.replace('(\\d+ m²),', '', regex = True)"
   ]
  },
  {
   "cell_type": "code",
   "execution_count": 21,
   "id": "24bc62b4",
   "metadata": {
    "ExecuteTime": {
     "end_time": "2022-09-22T01:03:38.352560Z",
     "start_time": "2022-09-22T01:03:38.324563Z"
    }
   },
   "outputs": [],
   "source": [
    "df_total ['teste2'] = df_total ['teste'].str.findall('(\\d+ quarto)')"
   ]
  },
  {
   "cell_type": "code",
   "execution_count": 23,
   "id": "a7ffc7b1",
   "metadata": {
    "ExecuteTime": {
     "end_time": "2022-09-22T01:04:16.170739Z",
     "start_time": "2022-09-22T01:04:16.165751Z"
    }
   },
   "outputs": [],
   "source": [
    "df_total ['quartos'] = df_total ['teste2']"
   ]
  },
  {
   "cell_type": "code",
   "execution_count": 26,
   "id": "9f81450c",
   "metadata": {
    "ExecuteTime": {
     "end_time": "2022-09-22T01:05:04.716626Z",
     "start_time": "2022-09-22T01:05:04.693624Z"
    }
   },
   "outputs": [],
   "source": [
    "df_total.drop(columns= ['teste', 'teste2'], inplace= True)"
   ]
  },
  {
   "cell_type": "code",
   "execution_count": null,
   "id": "118b0aad",
   "metadata": {},
   "outputs": [],
   "source": []
  },
  {
   "cell_type": "code",
   "execution_count": null,
   "id": "d8b6f52d",
   "metadata": {},
   "outputs": [],
   "source": []
  },
  {
   "cell_type": "code",
   "execution_count": 27,
   "id": "7327d255",
   "metadata": {
    "ExecuteTime": {
     "end_time": "2022-09-22T01:05:06.867618Z",
     "start_time": "2022-09-22T01:05:06.852621Z"
    }
   },
   "outputs": [
    {
     "data": {
      "text/html": [
       "<div>\n",
       "<style scoped>\n",
       "    .dataframe tbody tr th:only-of-type {\n",
       "        vertical-align: middle;\n",
       "    }\n",
       "\n",
       "    .dataframe tbody tr th {\n",
       "        vertical-align: top;\n",
       "    }\n",
       "\n",
       "    .dataframe thead th {\n",
       "        text-align: right;\n",
       "    }\n",
       "</style>\n",
       "<table border=\"1\" class=\"dataframe\">\n",
       "  <thead>\n",
       "    <tr style=\"text-align: right;\">\n",
       "      <th></th>\n",
       "      <th>id_imov</th>\n",
       "      <th>preco_imov</th>\n",
       "      <th>condominio mensal</th>\n",
       "      <th>iptu mensal</th>\n",
       "      <th>endereco</th>\n",
       "      <th>bairro</th>\n",
       "      <th>cidade</th>\n",
       "      <th>vaga</th>\n",
       "      <th>banheiro</th>\n",
       "      <th>metros</th>\n",
       "      <th>titulo_imov</th>\n",
       "      <th>quartos</th>\n",
       "    </tr>\n",
       "  </thead>\n",
       "  <tbody>\n",
       "    <tr>\n",
       "      <th>0</th>\n",
       "      <td>1X3FVJ1</td>\n",
       "      <td>200000</td>\n",
       "      <td>0.0</td>\n",
       "      <td>890.000000</td>\n",
       "      <td>Rua Burnier</td>\n",
       "      <td>Branca</td>\n",
       "      <td>Belo Horizonte</td>\n",
       "      <td>1</td>\n",
       "      <td>1</td>\n",
       "      <td>61</td>\n",
       "      <td>Apartamento à venda em Casa Branca com 61 m², ...</td>\n",
       "      <td>[2 quarto]</td>\n",
       "    </tr>\n",
       "    <tr>\n",
       "      <th>1</th>\n",
       "      <td>1Q2GUSV</td>\n",
       "      <td>228000</td>\n",
       "      <td>250.0</td>\n",
       "      <td>0.000000</td>\n",
       "      <td>Rua Vichy</td>\n",
       "      <td>Verde</td>\n",
       "      <td>São Paulo</td>\n",
       "      <td>0</td>\n",
       "      <td>1</td>\n",
       "      <td>37</td>\n",
       "      <td>Apartamento à venda em Casa Verde com 37 m², 2...</td>\n",
       "      <td>[2 quarto]</td>\n",
       "    </tr>\n",
       "    <tr>\n",
       "      <th>2</th>\n",
       "      <td>1VQRTTI</td>\n",
       "      <td>425000</td>\n",
       "      <td>590.0</td>\n",
       "      <td>0.000000</td>\n",
       "      <td>Avenida Ordem e Progresso</td>\n",
       "      <td>Verde</td>\n",
       "      <td>São Paulo</td>\n",
       "      <td>0</td>\n",
       "      <td>1</td>\n",
       "      <td>85</td>\n",
       "      <td>Apartamento à venda em Casa Verde com 85 m², 3...</td>\n",
       "      <td>[3 quarto]</td>\n",
       "    </tr>\n",
       "    <tr>\n",
       "      <th>3</th>\n",
       "      <td>SQW8AH</td>\n",
       "      <td>341000</td>\n",
       "      <td>450.0</td>\n",
       "      <td>0.000000</td>\n",
       "      <td>Rua Padre João Gualberto</td>\n",
       "      <td>Verde</td>\n",
       "      <td>São Paulo</td>\n",
       "      <td>1</td>\n",
       "      <td>1</td>\n",
       "      <td>50</td>\n",
       "      <td>Apartamento à venda em Casa Verde com 50 m², 2...</td>\n",
       "      <td>[2 quarto]</td>\n",
       "    </tr>\n",
       "    <tr>\n",
       "      <th>4</th>\n",
       "      <td>RRGCGL</td>\n",
       "      <td>420000</td>\n",
       "      <td>530.0</td>\n",
       "      <td>0.000000</td>\n",
       "      <td>Rua Artur de Oliveira</td>\n",
       "      <td>Verde</td>\n",
       "      <td>São Paulo</td>\n",
       "      <td>1</td>\n",
       "      <td>1</td>\n",
       "      <td>52</td>\n",
       "      <td>Apartamento à venda em Casa Verde com 52 m², 2...</td>\n",
       "      <td>[2 quarto]</td>\n",
       "    </tr>\n",
       "    <tr>\n",
       "      <th>...</th>\n",
       "      <td>...</td>\n",
       "      <td>...</td>\n",
       "      <td>...</td>\n",
       "      <td>...</td>\n",
       "      <td>...</td>\n",
       "      <td>...</td>\n",
       "      <td>...</td>\n",
       "      <td>...</td>\n",
       "      <td>...</td>\n",
       "      <td>...</td>\n",
       "      <td>...</td>\n",
       "      <td>...</td>\n",
       "    </tr>\n",
       "    <tr>\n",
       "      <th>17936</th>\n",
       "      <td>1BYDNQW</td>\n",
       "      <td>600000</td>\n",
       "      <td>850.0</td>\n",
       "      <td>102.916667</td>\n",
       "      <td>Avenida Vicente Monteggia</td>\n",
       "      <td>Vila Nova</td>\n",
       "      <td>Porto Alegre</td>\n",
       "      <td>2</td>\n",
       "      <td>3</td>\n",
       "      <td>142</td>\n",
       "      <td>Casa de Condomínio à venda em Vila Nova com 14...</td>\n",
       "      <td>[3 quarto]</td>\n",
       "    </tr>\n",
       "    <tr>\n",
       "      <th>17937</th>\n",
       "      <td>17L0X1L</td>\n",
       "      <td>960000</td>\n",
       "      <td>729.0</td>\n",
       "      <td>87.083333</td>\n",
       "      <td>Estrada João Salomoni</td>\n",
       "      <td>Vila Nova</td>\n",
       "      <td>Porto Alegre</td>\n",
       "      <td>2</td>\n",
       "      <td>2</td>\n",
       "      <td>156</td>\n",
       "      <td>Casa de Condomínio à venda em Vila Nova com 15...</td>\n",
       "      <td>[2 quarto]</td>\n",
       "    </tr>\n",
       "    <tr>\n",
       "      <th>17938</th>\n",
       "      <td>V718MP</td>\n",
       "      <td>932000</td>\n",
       "      <td>800.0</td>\n",
       "      <td>66.666667</td>\n",
       "      <td>Rua Adriano Pereira da Silva</td>\n",
       "      <td>Vila Nova</td>\n",
       "      <td>Porto Alegre</td>\n",
       "      <td>2</td>\n",
       "      <td>3</td>\n",
       "      <td>240</td>\n",
       "      <td>Casa de Condomínio à venda em Vila Nova com 24...</td>\n",
       "      <td>[3 quarto]</td>\n",
       "    </tr>\n",
       "    <tr>\n",
       "      <th>17939</th>\n",
       "      <td>11QPJ93</td>\n",
       "      <td>390000</td>\n",
       "      <td>500.0</td>\n",
       "      <td>66.666667</td>\n",
       "      <td>Estrada João Salomoni</td>\n",
       "      <td>Vila Nova</td>\n",
       "      <td>Porto Alegre</td>\n",
       "      <td>2</td>\n",
       "      <td>2</td>\n",
       "      <td>128</td>\n",
       "      <td>Casa de Condomínio à venda em Vila Nova com 12...</td>\n",
       "      <td>[3 quarto]</td>\n",
       "    </tr>\n",
       "    <tr>\n",
       "      <th>17940</th>\n",
       "      <td>CTOXJ7</td>\n",
       "      <td>110000</td>\n",
       "      <td>210.0</td>\n",
       "      <td>400.000000</td>\n",
       "      <td>Rua Vinte e Seis de Setembro</td>\n",
       "      <td>Alpes</td>\n",
       "      <td>Belo Horizonte</td>\n",
       "      <td>1</td>\n",
       "      <td>1</td>\n",
       "      <td>46</td>\n",
       "      <td>Apartamento à venda em Alpes com 46 m², 2 quar...</td>\n",
       "      <td>[2 quarto]</td>\n",
       "    </tr>\n",
       "  </tbody>\n",
       "</table>\n",
       "<p>17941 rows × 12 columns</p>\n",
       "</div>"
      ],
      "text/plain": [
       "        id_imov  preco_imov  condominio mensal  iptu mensal  \\\n",
       "0       1X3FVJ1      200000                0.0   890.000000   \n",
       "1       1Q2GUSV      228000              250.0     0.000000   \n",
       "2       1VQRTTI      425000              590.0     0.000000   \n",
       "3        SQW8AH      341000              450.0     0.000000   \n",
       "4        RRGCGL      420000              530.0     0.000000   \n",
       "...         ...         ...                ...          ...   \n",
       "17936   1BYDNQW      600000              850.0   102.916667   \n",
       "17937   17L0X1L      960000              729.0    87.083333   \n",
       "17938    V718MP      932000              800.0    66.666667   \n",
       "17939   11QPJ93      390000              500.0    66.666667   \n",
       "17940    CTOXJ7      110000              210.0   400.000000   \n",
       "\n",
       "                           endereco             bairro          cidade  vaga  \\\n",
       "0                       Rua Burnier      Branca         Belo Horizonte     1   \n",
       "1                         Rua Vichy         Verde            São Paulo     0   \n",
       "2         Avenida Ordem e Progresso         Verde            São Paulo     0   \n",
       "3          Rua Padre João Gualberto       Verde              São Paulo     1   \n",
       "4             Rua Artur de Oliveira       Verde              São Paulo     1   \n",
       "...                             ...                ...             ...   ...   \n",
       "17936     Avenida Vicente Monteggia   Vila Nova           Porto Alegre     2   \n",
       "17937         Estrada João Salomoni   Vila Nova           Porto Alegre     2   \n",
       "17938  Rua Adriano Pereira da Silva   Vila Nova           Porto Alegre     2   \n",
       "17939         Estrada João Salomoni   Vila Nova           Porto Alegre     2   \n",
       "17940  Rua Vinte e Seis de Setembro       Alpes         Belo Horizonte     1   \n",
       "\n",
       "       banheiro  metros                                        titulo_imov  \\\n",
       "0             1      61  Apartamento à venda em Casa Branca com 61 m², ...   \n",
       "1             1      37  Apartamento à venda em Casa Verde com 37 m², 2...   \n",
       "2             1      85  Apartamento à venda em Casa Verde com 85 m², 3...   \n",
       "3             1      50  Apartamento à venda em Casa Verde com 50 m², 2...   \n",
       "4             1      52  Apartamento à venda em Casa Verde com 52 m², 2...   \n",
       "...         ...     ...                                                ...   \n",
       "17936         3     142  Casa de Condomínio à venda em Vila Nova com 14...   \n",
       "17937         2     156  Casa de Condomínio à venda em Vila Nova com 15...   \n",
       "17938         3     240  Casa de Condomínio à venda em Vila Nova com 24...   \n",
       "17939         2     128  Casa de Condomínio à venda em Vila Nova com 12...   \n",
       "17940         1      46  Apartamento à venda em Alpes com 46 m², 2 quar...   \n",
       "\n",
       "          quartos  \n",
       "0      [2 quarto]  \n",
       "1      [2 quarto]  \n",
       "2      [3 quarto]  \n",
       "3      [2 quarto]  \n",
       "4      [2 quarto]  \n",
       "...           ...  \n",
       "17936  [3 quarto]  \n",
       "17937  [2 quarto]  \n",
       "17938  [3 quarto]  \n",
       "17939  [3 quarto]  \n",
       "17940  [2 quarto]  \n",
       "\n",
       "[17941 rows x 12 columns]"
      ]
     },
     "execution_count": 27,
     "metadata": {},
     "output_type": "execute_result"
    }
   ],
   "source": [
    "df_total"
   ]
  },
  {
   "cell_type": "code",
   "execution_count": null,
   "id": "89f9415c",
   "metadata": {},
   "outputs": [],
   "source": []
  },
  {
   "cell_type": "code",
   "execution_count": null,
   "id": "520f2d4d",
   "metadata": {},
   "outputs": [],
   "source": []
  },
  {
   "cell_type": "code",
   "execution_count": null,
   "id": "abbe3edb",
   "metadata": {},
   "outputs": [],
   "source": []
  },
  {
   "cell_type": "code",
   "execution_count": 132,
   "id": "868aae36",
   "metadata": {
    "ExecuteTime": {
     "end_time": "2022-09-12T13:48:31.600329Z",
     "start_time": "2022-09-12T13:48:31.589320Z"
    }
   },
   "outputs": [],
   "source": []
  },
  {
   "cell_type": "code",
   "execution_count": 135,
   "id": "14f1e668",
   "metadata": {
    "ExecuteTime": {
     "end_time": "2022-09-12T13:50:38.923306Z",
     "start_time": "2022-09-12T13:50:37.900590Z"
    }
   },
   "outputs": [],
   "source": [
    "df_clean.to_excel(r\"C:\\Users\\T-GAMER\\Desktop\\Ironhack DA\\Projeto Final\\clean_dataset_sp.xlsx\", encoding = 'latin1')"
   ]
  },
  {
   "cell_type": "code",
   "execution_count": 28,
   "id": "9d95bcba",
   "metadata": {
    "ExecuteTime": {
     "end_time": "2022-09-22T01:07:12.713636Z",
     "start_time": "2022-09-22T01:07:09.661717Z"
    }
   },
   "outputs": [],
   "source": [
    "df_total.to_excel(r\"C:\\Users\\T-GAMER\\Desktop\\Ironhack DA\\Projeto Final\\df_total.xlsx\", encoding = 'latin1')"
   ]
  },
  {
   "cell_type": "code",
   "execution_count": 29,
   "id": "6e94520f",
   "metadata": {
    "ExecuteTime": {
     "end_time": "2022-09-22T01:07:14.782827Z",
     "start_time": "2022-09-22T01:07:14.644788Z"
    }
   },
   "outputs": [],
   "source": [
    "df_total.to_csv(r\"C:\\Users\\T-GAMER\\Desktop\\Ironhack DA\\Projeto Final\\df_total_clean.csv\", encoding = 'latin1')"
   ]
  }
 ],
 "metadata": {
  "kernelspec": {
   "display_name": "Python 3 (ipykernel)",
   "language": "python",
   "name": "python3"
  },
  "language_info": {
   "codemirror_mode": {
    "name": "ipython",
    "version": 3
   },
   "file_extension": ".py",
   "mimetype": "text/x-python",
   "name": "python",
   "nbconvert_exporter": "python",
   "pygments_lexer": "ipython3",
   "version": "3.9.12"
  },
  "varInspector": {
   "cols": {
    "lenName": 16,
    "lenType": 16,
    "lenVar": 40
   },
   "kernels_config": {
    "python": {
     "delete_cmd_postfix": "",
     "delete_cmd_prefix": "del ",
     "library": "var_list.py",
     "varRefreshCmd": "print(var_dic_list())"
    },
    "r": {
     "delete_cmd_postfix": ") ",
     "delete_cmd_prefix": "rm(",
     "library": "var_list.r",
     "varRefreshCmd": "cat(var_dic_list()) "
    }
   },
   "position": {
    "height": "402.844px",
    "left": "1330px",
    "right": "20px",
    "top": "91px",
    "width": "506px"
   },
   "types_to_exclude": [
    "module",
    "function",
    "builtin_function_or_method",
    "instance",
    "_Feature"
   ],
   "window_display": false
  }
 },
 "nbformat": 4,
 "nbformat_minor": 5
}
