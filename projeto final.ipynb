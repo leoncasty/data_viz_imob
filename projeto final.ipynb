{
 "cells": [
  {
   "cell_type": "code",
   "execution_count": null,
   "id": "4579a6ca",
   "metadata": {},
   "outputs": [],
   "source": [
    "\"\"\"\n",
    "\n",
    "- Imoveis na periferia de São Paulo são subvalorizados?\n",
    "\n",
    "- A ideia que norteia o projeto é entender se os imoveis que em raio de 30km do marco 0 da cidade de São Paulo são subvalorizados em comparação ao centro ou bairros nobres\n",
    "- Para possibilitar uma analise de recomendação de investimento nesses imoveis com base em expectativa de lucro, tempo de retorno e analise de risco do mercado.\n",
    "- Possiveis interessados na analise exploratoria: Startups do mercado imobiliario, Fundos Imobiliarios, Construtoras, Instituições financeiras que fornecem credito imobiliario\n",
    "\n",
    "- analise baseada nos imoveis disponiveis nos sites Loft, Quinto Andar e Zap Imoveis\n",
    "\n",
    "- a primeira missão seria conseguir as informações dos imoveis listados com [id_anuncio, endereco, preco, m2, quartos, banheiro, vaga de garagem, tipo imovel, novo/usado, rating atribuido por mim]\n",
    "- se possivel obter alguma informação sobre a venda desses imoveis (talvez diario oficial para buscar tranferencias de imoveis)\n",
    "- com base no endereço começamos a classificar se o imovel está em area periferica, neutra ou nobre\n",
    "- pós classificação começamos a fazer as comparações de rating e preco de imoveis similares em locais diferentes\n",
    "- tirar mais ideias sobre a situação imobiliaria de sao paulo\n",
    "- tentar criar algoritmo que busca oportunidades de lucro \n",
    "\n",
    "-- linkar com problemas habitacionais da cidade\n",
    "-- se possivel realizar uma regressao para comparar o quanto cada variavel impacta no preço do m2/total do imovel e nao se esquecer de adicionar uma variavel para segurança do bairro e outros fatores externos\n",
    "\n",
    "\n",
    "WebScreaping \n",
    "Beautiful soup\n",
    "Seleniun\n",
    "Paralelização \n",
    "\n",
    "--quando fizer o webscraping procurar as <tags> que contenha apenas a info que eu quero\n",
    "--para buscar diversas tags diferentes é interessante criar uma função com condicionais para cada type de informação dentro da tag\n",
    "\n",
    "EXEMPLO\n",
    "tags = ['p','h1', 'h2', 'h3', 'h4', 'h5', 'h6', 'h7']\n",
    "text_list = []\n",
    "for element in soup.find_all(tags):\n",
    "    text_list.append(element.text)\n",
    "print('\\n'.join(text_list))\n",
    "\n",
    "\n",
    "\"\"\""
   ]
  },
  {
   "cell_type": "code",
   "execution_count": null,
   "id": "8b724392",
   "metadata": {},
   "outputs": [],
   "source": [
    "\"\"\"TASK LIST \n",
    "- fazer o scraping de uma das variaveis do imovel em uma pagina simples [feito]\n",
    "\n",
    "- fazer o scraping de todas as variaveis do imovel\n",
    "- criar uma spider com esse scraping\n",
    "- começar a pensar como aplicar isso para a pagina base site\n",
    "\n",
    "\n",
    "\"\"\""
   ]
  },
  {
   "cell_type": "code",
   "execution_count": 1,
   "id": "b16be718",
   "metadata": {
    "ExecuteTime": {
     "end_time": "2022-09-04T07:46:59.603553Z",
     "start_time": "2022-09-04T07:46:58.628903Z"
    }
   },
   "outputs": [],
   "source": [
    "# Imports que fazemos em um webscraping\n",
    "\n",
    "import tqdm\n",
    "import pandas as pd\n",
    "import numpy as np\n",
    "\n",
    "import requests\n",
    "from datetime import datetime\n",
    "\n",
    "from bs4 import BeautifulSoup\n",
    "from lxml import etree\n",
    "\n",
    "from selenium import webdriver\n",
    "from selenium.webdriver.chrome.service import Service\n",
    "from selenium.webdriver.common.keys import Keys\n",
    "from selenium.webdriver.common.keys import By\n",
    "# para importar o Xpath e usa-lo com o seleniun \n",
    "# Learn xpath https://topswagcode.com/xpath/\n",
    "# reference https://www.w3schools.com/xml/xpath_syntax.asp\n",
    "\n"
   ]
  },
  {
   "cell_type": "code",
   "execution_count": 11,
   "id": "28826050",
   "metadata": {
    "ExecuteTime": {
     "end_time": "2022-09-04T07:54:33.962775Z",
     "start_time": "2022-09-04T07:54:33.949783Z"
    }
   },
   "outputs": [],
   "source": [
    "#localização do chromewebdriver\n",
    "chrome_path = r'C:\\Users\\T-GAMER\\Desktop\\Ironhack DA\\Week 4\\chromedriver_win32\\chromedriver'\n",
    "ser = Service(chrome_path)"
   ]
  },
  {
   "cell_type": "code",
   "execution_count": 12,
   "id": "c8d42d64",
   "metadata": {
    "ExecuteTime": {
     "end_time": "2022-09-04T07:54:37.649055Z",
     "start_time": "2022-09-04T07:54:36.597773Z"
    }
   },
   "outputs": [],
   "source": [
    "#chromewebdriver deve estar aberto para o codigo funcionar\n",
    "driver = webdriver.Chrome(service=ser)"
   ]
  },
  {
   "cell_type": "markdown",
   "id": "87a9ebae",
   "metadata": {},
   "source": [
    "# Base coleta de dados primeira pagina"
   ]
  },
  {
   "cell_type": "code",
   "execution_count": 13,
   "id": "05f00a71",
   "metadata": {
    "ExecuteTime": {
     "end_time": "2022-09-04T07:54:41.702237Z",
     "start_time": "2022-09-04T07:54:41.694236Z"
    }
   },
   "outputs": [],
   "source": [
    "url = 'https://loft.com.br/imovel/apartamento-rua-francisco-rossano-vila-prudente-sao-paulo-1-quarto-40m2/ycf79w'"
   ]
  },
  {
   "cell_type": "code",
   "execution_count": 14,
   "id": "0952f732",
   "metadata": {
    "ExecuteTime": {
     "end_time": "2022-09-04T07:54:47.388130Z",
     "start_time": "2022-09-04T07:54:42.901775Z"
    }
   },
   "outputs": [],
   "source": [
    "driver.get(url)"
   ]
  },
  {
   "cell_type": "code",
   "execution_count": null,
   "id": "fe3275f6",
   "metadata": {
    "ExecuteTime": {
     "end_time": "2022-09-03T20:53:48.516647Z",
     "start_time": "2022-09-03T20:53:48.496643Z"
    }
   },
   "outputs": [],
   "source": [
    "driver.current_url"
   ]
  },
  {
   "cell_type": "code",
   "execution_count": null,
   "id": "9243bcf4",
   "metadata": {
    "ExecuteTime": {
     "end_time": "2022-09-03T20:53:50.636106Z",
     "start_time": "2022-09-03T20:53:50.609100Z"
    }
   },
   "outputs": [],
   "source": [
    "#metodo do webdriver 'find_element para procurar um elemento dentro da minha URL pelo xpath' \n",
    "#peguei o caminho full_xpath do valor no grande box a direita\n",
    "driver.find_element('xpath','/html/body/div[1]/section/div[2]/div[2]/div/div/div/div/div/div/ul/li[2]/p').text"
   ]
  },
  {
   "cell_type": "code",
   "execution_count": null,
   "id": "96de98da",
   "metadata": {
    "ExecuteTime": {
     "end_time": "2022-09-03T20:53:52.105840Z",
     "start_time": "2022-09-03T20:53:52.073602Z"
    }
   },
   "outputs": [],
   "source": [
    "#peguei o caminho full_xpath do ID do Imóvel nas letras cinzas embaixo das fotos\n",
    "#será necessário limpar o DataFrame para criar uma chave unica deste ID\n",
    "driver.find_element('xpath', '/html/body/div[1]/section/div[2]/div[1]/div[1]/div/div/div[1]/nav/ol/li[9]/span').text"
   ]
  },
  {
   "cell_type": "code",
   "execution_count": null,
   "id": "a283711b",
   "metadata": {
    "ExecuteTime": {
     "end_time": "2022-09-03T20:53:53.844715Z",
     "start_time": "2022-09-03T20:53:53.810171Z"
    }
   },
   "outputs": [],
   "source": [
    "#peguei o caminho full_xpath da rua nas letras cinzas embaixo das fotos \n",
    "driver.find_element('xpath', '/html/body/div[1]/section/div[2]/div[1]/div[1]/div/div/div[1]/nav/ol/li[7]/a').text"
   ]
  },
  {
   "cell_type": "code",
   "execution_count": null,
   "id": "56b28175",
   "metadata": {
    "ExecuteTime": {
     "end_time": "2022-09-03T20:53:55.389524Z",
     "start_time": "2022-09-03T20:53:55.352164Z"
    }
   },
   "outputs": [],
   "source": [
    "#peguei o caminho full_xpath do tipo do imovel nas descrições em preto embaixo das fotos \n",
    "#será necessário limpar o tipo com regex, seria uma boa ideia entender os tipos de imovel dentro do site e depois filtrar eles\n",
    "driver.find_element('xpath', '/html/body/div[1]/section/div[2]/div[1]/div[3]/div[2]/div[1]/p').text"
   ]
  },
  {
   "cell_type": "code",
   "execution_count": null,
   "id": "21f7c24e",
   "metadata": {
    "ExecuteTime": {
     "end_time": "2022-09-03T20:53:57.072800Z",
     "start_time": "2022-09-03T20:53:57.048787Z"
    }
   },
   "outputs": [],
   "source": [
    "#peguei o caminho full_xpath do titulo nas descrições em preto embaixo das foto para extrair a quantidade de quartos, suites e vagas de gaaragem  \n",
    "#será necessário limpar o tipo com regex\n",
    "driver.find_element('xpath','/html/body/div[1]/section/div[2]/div[1]/div[1]/div/div/div[2]/h1').text"
   ]
  },
  {
   "cell_type": "code",
   "execution_count": null,
   "id": "822cd39d",
   "metadata": {
    "ExecuteTime": {
     "end_time": "2022-09-03T20:53:58.342023Z",
     "start_time": "2022-09-03T20:53:58.312953Z"
    }
   },
   "outputs": [],
   "source": [
    "#peguei o caminho full_xpath das descrições para extrair a quantidade de banheiros.  \n",
    "#será necessário limpar o tipo com regex\n",
    "driver.find_element('xpath','/html/body/div[1]/section/div[2]/div[1]/div[3]/div[2]/div[5]/p').text"
   ]
  },
  {
   "cell_type": "markdown",
   "id": "6cac8906",
   "metadata": {},
   "source": [
    "# Teste de Coleta outras paginas (spider)"
   ]
  },
  {
   "cell_type": "code",
   "execution_count": 21,
   "id": "a5d602d1",
   "metadata": {
    "ExecuteTime": {
     "end_time": "2022-09-04T07:58:07.243722Z",
     "start_time": "2022-09-04T07:58:07.230725Z"
    }
   },
   "outputs": [],
   "source": [
    "\n",
    "def coleta_infos():\n",
    "    \n",
    "    \"\"\"Essa funcao coleta os dados de um imovel na pagina de anuncio do site Loft por meio do Xpath e salva estes dados dentro de um dicionario\n",
    "    Atualmente para a funcao ser executada corretamente é necessario carregar a pagina previamente no navegador de maneira manual\n",
    "    Eventualmente o site atualiza de um dia para o outro e os caminhos de Xpath devem ser atualizados\"\"\"\n",
    "    \n",
    "    preco_imov = driver.find_element('xpath','/html/body/div[1]/section/div[2]/div[2]/div/div/div/div/div/div[1]/ul/li[1]/p').text\n",
    "    id_imov = driver.find_element('xpath', '/html/body/div[1]/section/div[2]/div[1]/div[1]/div/div/div[1]/nav/ol/li[9]/span').text\n",
    "    endereco = driver.find_element('xpath', '/html/body/div[1]/section/div[2]/div[1]/div[1]/div/div/div[1]/nav/ol/li[7]/a').text\n",
    "    titulo_imov = driver.find_element('xpath','/html/body/div[1]/section/div[2]/div[1]/div[1]/div/div/div[2]/h1').text\n",
    "    banheiro = driver.find_element('xpath','/html/body/div[1]/section/div[2]/div[1]/div[3]/div[3]/div[5]/p').text\n",
    "    \n",
    "    global df_teste\n",
    "    df_teste = {'Preco': preco_imov, 'Id': id_imov, 'Endereco': endereco, 'Descricoes Imovel': titulo_imov, 'Banheiros': banheiro}\n"
   ]
  },
  {
   "cell_type": "code",
   "execution_count": 22,
   "id": "a05d1f1f",
   "metadata": {
    "ExecuteTime": {
     "end_time": "2022-09-04T07:58:12.237711Z",
     "start_time": "2022-09-04T07:58:08.925662Z"
    }
   },
   "outputs": [],
   "source": [
    "#com a URL fora da função o codigo funciona para captar as informações de paginas unicas, algo como atualizar a url manualmente a cada coleta\n",
    "\n",
    "url = driver.current_url\n",
    "driver.get(url)\n",
    "coleta_infos()"
   ]
  },
  {
   "cell_type": "code",
   "execution_count": 23,
   "id": "2f48414f",
   "metadata": {
    "ExecuteTime": {
     "end_time": "2022-09-04T07:58:14.176869Z",
     "start_time": "2022-09-04T07:58:14.157875Z"
    }
   },
   "outputs": [
    {
     "data": {
      "text/plain": [
       "{'Preco': 'R$ 299.000',\n",
       " 'Id': 'Imóvel YCF79W',\n",
       " 'Endereco': 'Rua Francisco Rossano',\n",
       " 'Descricoes Imovel': 'Apartamento à venda em Vila Prudente com 40 m², 1 quarto, 1 suíte, 1 vaga',\n",
       " 'Banheiros': '1 Banheiro'}"
      ]
     },
     "execution_count": 23,
     "metadata": {},
     "output_type": "execute_result"
    }
   ],
   "source": [
    "df_teste"
   ]
  },
  {
   "cell_type": "code",
   "execution_count": 24,
   "id": "d1094d41",
   "metadata": {
    "ExecuteTime": {
     "end_time": "2022-09-04T07:58:57.277084Z",
     "start_time": "2022-09-04T07:58:57.262081Z"
    }
   },
   "outputs": [],
   "source": [
    "df = pd.DataFrame(df_teste,index = [0])"
   ]
  },
  {
   "cell_type": "code",
   "execution_count": 25,
   "id": "3e7f80af",
   "metadata": {
    "ExecuteTime": {
     "end_time": "2022-09-04T07:58:58.741455Z",
     "start_time": "2022-09-04T07:58:58.469843Z"
    }
   },
   "outputs": [
    {
     "data": {
      "text/html": [
       "<div>\n",
       "<style scoped>\n",
       "    .dataframe tbody tr th:only-of-type {\n",
       "        vertical-align: middle;\n",
       "    }\n",
       "\n",
       "    .dataframe tbody tr th {\n",
       "        vertical-align: top;\n",
       "    }\n",
       "\n",
       "    .dataframe thead th {\n",
       "        text-align: right;\n",
       "    }\n",
       "</style>\n",
       "<table border=\"1\" class=\"dataframe\">\n",
       "  <thead>\n",
       "    <tr style=\"text-align: right;\">\n",
       "      <th></th>\n",
       "      <th>Preco</th>\n",
       "      <th>Id</th>\n",
       "      <th>Endereco</th>\n",
       "      <th>Descricoes Imovel</th>\n",
       "      <th>Banheiros</th>\n",
       "    </tr>\n",
       "  </thead>\n",
       "  <tbody>\n",
       "    <tr>\n",
       "      <th>0</th>\n",
       "      <td>R$ 299.000</td>\n",
       "      <td>Imóvel YCF79W</td>\n",
       "      <td>Rua Francisco Rossano</td>\n",
       "      <td>Apartamento à venda em Vila Prudente com 40 m²...</td>\n",
       "      <td>1 Banheiro</td>\n",
       "    </tr>\n",
       "  </tbody>\n",
       "</table>\n",
       "</div>"
      ],
      "text/plain": [
       "        Preco             Id               Endereco  \\\n",
       "0  R$ 299.000  Imóvel YCF79W  Rua Francisco Rossano   \n",
       "\n",
       "                                   Descricoes Imovel   Banheiros  \n",
       "0  Apartamento à venda em Vila Prudente com 40 m²...  1 Banheiro  "
      ]
     },
     "execution_count": 25,
     "metadata": {},
     "output_type": "execute_result"
    }
   ],
   "source": [
    "df"
   ]
  },
  {
   "cell_type": "code",
   "execution_count": null,
   "id": "f70184e8",
   "metadata": {},
   "outputs": [],
   "source": [
    "# Começar automatização do codigo para rodar em varias paginas."
   ]
  },
  {
   "cell_type": "code",
   "execution_count": 28,
   "id": "b39abf2e",
   "metadata": {
    "ExecuteTime": {
     "end_time": "2022-09-04T08:19:44.631994Z",
     "start_time": "2022-09-04T08:19:42.509385Z"
    }
   },
   "outputs": [],
   "source": [
    "url_compra = 'https://loft.com.br/venda/imoveis/sp/sao-paulo'\n",
    "driver.get(url_compra)\n"
   ]
  },
  {
   "cell_type": "code",
   "execution_count": 36,
   "id": "be1c4c5b",
   "metadata": {
    "ExecuteTime": {
     "end_time": "2022-09-04T08:31:52.462754Z",
     "start_time": "2022-09-04T08:31:52.357132Z"
    }
   },
   "outputs": [
    {
     "data": {
      "text/plain": [
       "'https://loft.com.br/venda/imoveis/sp/sao-paulo'"
      ]
     },
     "execution_count": 36,
     "metadata": {},
     "output_type": "execute_result"
    }
   ],
   "source": [
    "# Meu problema atual é que o programa clica no imovel mas não se altera a current URL. \n",
    "# Preciso que ele realize o clique, colete as informações e feche a aba para clicar no proximo link\n",
    "\n",
    "link_imov = driver.find_element('xpath', '/html/body/div[1]/section/div[4]/div[1]/div/div[1]/div[3]/a')\n",
    "link_imov2 = driver.find_element('xpath', '/html/body/div[1]/section/div[4]/div[1]/div/div[1]/div[4]/a')\n",
    "# Quando trabalhar na automatização do clique note que apenas o ultimo Div muda o argumento de posição, seria interessante \n",
    "# criar uma extrutura de loop alterando esta posição para pegar todos os links\n",
    "\n",
    "link_imov.click()\n",
    "driver.current_url\n"
   ]
  },
  {
   "cell_type": "code",
   "execution_count": null,
   "id": "e5de6e43",
   "metadata": {},
   "outputs": [],
   "source": []
  }
 ],
 "metadata": {
  "kernelspec": {
   "display_name": "Python 3 (ipykernel)",
   "language": "python",
   "name": "python3"
  },
  "language_info": {
   "codemirror_mode": {
    "name": "ipython",
    "version": 3
   },
   "file_extension": ".py",
   "mimetype": "text/x-python",
   "name": "python",
   "nbconvert_exporter": "python",
   "pygments_lexer": "ipython3",
   "version": "3.9.12"
  },
  "varInspector": {
   "cols": {
    "lenName": 16,
    "lenType": 16,
    "lenVar": 40
   },
   "kernels_config": {
    "python": {
     "delete_cmd_postfix": "",
     "delete_cmd_prefix": "del ",
     "library": "var_list.py",
     "varRefreshCmd": "print(var_dic_list())"
    },
    "r": {
     "delete_cmd_postfix": ") ",
     "delete_cmd_prefix": "rm(",
     "library": "var_list.r",
     "varRefreshCmd": "cat(var_dic_list()) "
    }
   },
   "types_to_exclude": [
    "module",
    "function",
    "builtin_function_or_method",
    "instance",
    "_Feature"
   ],
   "window_display": false
  }
 },
 "nbformat": 4,
 "nbformat_minor": 5
}
